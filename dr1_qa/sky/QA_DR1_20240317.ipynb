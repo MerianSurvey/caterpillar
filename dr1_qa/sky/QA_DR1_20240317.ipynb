{
 "cells": [
  {
   "cell_type": "code",
   "execution_count": 1,
   "metadata": {},
   "outputs": [
    {
     "name": "stdout",
     "output_type": "stream",
     "text": [
      "The autoreload extension is already loaded. To reload it, use:\n",
      "  %reload_ext autoreload\n"
     ]
    }
   ],
   "source": [
    "### load modules\n",
    "\n",
    "%load_ext autoreload\n",
    "%autoreload 2\n",
    "%config InlineBackend.figure_format='retina'\n",
    "\n",
    "\n",
    "from qa_utils import *\n",
    "\n",
    "# reload\n",
    "%load_ext autoreload\n",
    "%autoreload 2"
   ]
  },
  {
   "cell_type": "code",
   "execution_count": 2,
   "metadata": {},
   "outputs": [],
   "source": [
    "# Merian data repo\n",
    "root = '/projects/MERIAN/repo'\n",
    "butler = dafButler.Butler(root)"
   ]
  },
  {
   "cell_type": "code",
   "execution_count": 3,
   "metadata": {},
   "outputs": [
    {
     "name": "stdout",
     "output_type": "stream",
     "text": [
      "Has ObjectTable_tract for 8280\n"
     ]
    },
    {
     "name": "stderr",
     "output_type": "stream",
     "text": [
      "/scratch/gpfs/HSC/LSST/stack_20230302/conda/envs/lsst-scipipe-4.0.1/lib/python3.10/site-packages/numpy/lib/nanfunctions.py:1117: RuntimeWarning: Mean of empty slice\n",
      "  return np.nanmean(a, axis, out=out, keepdims=keepdims)\n"
     ]
    },
    {
     "name": "stdout",
     "output_type": "stream",
     "text": [
      "Has ObjectTable_tract for 8525\n"
     ]
    },
    {
     "name": "stderr",
     "output_type": "stream",
     "text": [
      "/scratch/gpfs/HSC/LSST/stack_20230302/conda/envs/lsst-scipipe-4.0.1/lib/python3.10/site-packages/numpy/lib/nanfunctions.py:1117: RuntimeWarning: Mean of empty slice\n",
      "  return np.nanmean(a, axis, out=out, keepdims=keepdims)\n"
     ]
    },
    {
     "name": "stdout",
     "output_type": "stream",
     "text": [
      "Has ObjectTable_tract for 8764\n"
     ]
    },
    {
     "name": "stderr",
     "output_type": "stream",
     "text": [
      "/scratch/gpfs/HSC/LSST/stack_20230302/conda/envs/lsst-scipipe-4.0.1/lib/python3.10/site-packages/numpy/lib/nanfunctions.py:1117: RuntimeWarning: Mean of empty slice\n",
      "  return np.nanmean(a, axis, out=out, keepdims=keepdims)\n"
     ]
    },
    {
     "name": "stdout",
     "output_type": "stream",
     "text": [
      "No objectTable_tract for 8769\n"
     ]
    }
   ],
   "source": [
    "import lsst.daf.butler as dafButler\n",
    "import scipy.stats as stats\n",
    "from astropy.io import ascii\n",
    "from astropy.table import Table\n",
    "import numpy as np\n",
    "\n",
    " \n",
    "\n",
    "\n",
    "def mad_sigmaclip(array, low=3., high=3.):\n",
    "    '''\n",
    "    similar to sigmaclip, but using median and MAD instead of mean and std\n",
    "    ''' \n",
    "    # mask=0 means the value should be discarded\n",
    "    \n",
    "    # clip nan\n",
    "    mask = np.ones(array.shape,dtype=int)\n",
    "    mask[np.isnan(array)] = 0\n",
    "    c = array[mask==1]\n",
    "    \n",
    "    delta = 1\n",
    "    while delta:\n",
    "        c_std = stats.median_abs_deviation(array)\n",
    "        c_median =  np.nanmedian(c)\n",
    "        size = c.size\n",
    "        critlower = c_median - c_std * low\n",
    "        critupper = c_median + c_std * high\n",
    "        mask[(array <= critlower) | (array >= critupper)] = 0\n",
    "        c = c[(c >= critlower) & (c <= critupper)]\n",
    "        delta = size - c.size\n",
    "\n",
    "    return mask, array[mask==1]\n",
    "\n",
    "\n",
    "# random tract\n",
    "list_tract_ids = [8280,8525,8764,8769,9010,9078,9088,9099,9102,9131,9135,9227,9313,9319,9344,9378,9456,9459,9470,9556,9564,9574,9589,9798,9800,9812,9828,9939,9946,9953,10040,10048,10061,10183,10293,10427]  \n",
    "\n",
    "collection = 'DECam/runs/merian/dr1_wide'\n",
    "skymap = 'hsc_rings_v1'\n",
    "\n",
    "flux_colname = 'N540_gaap1p5Flux'\n",
    "tract_id_list = []\n",
    "tract_median_list = []\n",
    "tract_std_list = []\n",
    "\n",
    "for i,tract in enumerate(list_tract_ids):\n",
    "    butler = dafButler.Butler('/projects/MERIAN/repo')\n",
    "    dataId = dict(tract=tract)\n",
    "\n",
    "\n",
    "    try:\n",
    "        \n",
    "        cat_coadd = butler.get( 'objectTable_tract', tract=tract, instrument='DECam',\n",
    "                        skymap=skymap, collections=collection)\n",
    "        \n",
    "        print(f'Has ObjectTable_tract for {tract}')\n",
    "    \n",
    "    except:\n",
    "        print(f'No objectTable_tract for {tract}')\n",
    "        continue\n",
    "\n",
    "    ### sky objects\n",
    "    skyobj_cat = cat_coadd[cat_coadd.merge_peak_sky==True]\n",
    "    \n",
    "    ### Tract Level\n",
    "    flux = cat_coadd[flux_colname]\n",
    "    mask, flux_clipped = mad_sigmaclip(flux,low=3,high=3)\n",
    "    Neff = np.sum(mask)\n",
    "    \n",
    "    \n",
    "    median = np.nanmedian(flux_clipped)\n",
    "    std = stats.median_abs_deviation(flux_clipped)\n",
    "\n",
    "    tract_id_list.append(tract)\n",
    "    tract_median_list.append(median)\n",
    "    tract_std_list.append(std)\n",
    "    \n",
    "\n",
    "    ### Patch Level\n",
    "    if i==0:\n",
    "        patch_list = np.unique(cat_coadd['patch'])\n",
    "        patch_median_list = []\n",
    "        patch_std_list = []\n",
    "\n",
    "        for patch_id in patch_list:\n",
    "            patch_cat = cat_coadd[cat_coadd['patch']==patch_id]\n",
    "            patch_flux_raw = patch_cat[flux_colname]\n",
    "            mask, patch_flux = sigmaclip(patch_flux_raw)\n",
    "            Neff = len(patch_flux)\n",
    "            \n",
    "            mid_flux = np.nanmedian(patch_flux)\n",
    "            std_flux = np.sqrt(np.nanmean((patch_flux-mid_flux)**2))\n",
    "            \n",
    "            patch_median_list.append(mid_flux)\n",
    "            patch_std_list.append(std_flux)\n",
    "\n",
    "        \n",
    "        patch_stat = Table([patch_list,patch_median_list,patch_std_list],names=['patch','median','std'])\n",
    "        patch_stat['patch'].description = 'patch id'\n",
    "        patch_stat['median'].description = f'median of {flux_colname} flux for each patch'\n",
    "        patch_stat['std'].description = f'std of {flux_colname} flux for each patch'\n",
    "        patch_stat.meta['tract'] = tract\n",
    "\n",
    "        patch_stat.meta['comments'] = f'statisitcs of {flux_colname} flux for each patch in tract {tract}'\n",
    "\n",
    "        ascii.write(patch_stat, f'patch_stat_{tract}.ecsv', overwrite=True, format='ecsv')\n",
    "    \n",
    "    del cat_coadd\n",
    "    del skyobj_cat\n",
    "    del flux\n",
    "    del mask\n",
    "    del flux_clipped\n",
    "\n",
    "\n",
    "\n",
    "\n",
    "tract_stat = Table([tract_id_list,tract_median_list,tract_std_list],names=['tract','median','std'])\n",
    "tract_stat['tract'].description = 'tract id'\n",
    "tract_stat['median'].description = f'median of {flux_colname} flux for each tract'\n",
    "tract_stat['std'].description = f'std of {flux_colname} flux for each tract'\n",
    "\n",
    "tract_stat.meta['comments'] = f'statisitcs of {flux_colname} flux for each tract'\n",
    "\n",
    "ascii.write(tract_stat, f'tract_stat.ecsv', overwrite=True, format='ecsv')\n",
    "\n"
   ]
  }
 ],
 "metadata": {
  "kernelspec": {
   "display_name": "Python 3",
   "language": "python",
   "name": "python3"
  },
  "language_info": {
   "codemirror_mode": {
    "name": "ipython",
    "version": 3
   },
   "file_extension": ".py",
   "mimetype": "text/x-python",
   "name": "python",
   "nbconvert_exporter": "python",
   "pygments_lexer": "ipython3",
   "version": "3.10.9"
  },
  "orig_nbformat": 4
 },
 "nbformat": 4,
 "nbformat_minor": 2
}
