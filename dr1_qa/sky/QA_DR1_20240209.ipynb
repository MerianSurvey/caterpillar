{
 "cells": [
  {
   "cell_type": "code",
   "execution_count": 3,
   "metadata": {},
   "outputs": [
    {
     "name": "stdout",
     "output_type": "stream",
     "text": [
      "The autoreload extension is already loaded. To reload it, use:\n",
      "  %reload_ext autoreload\n"
     ]
    }
   ],
   "source": [
    "### load modules\n",
    "\n",
    "%load_ext autoreload\n",
    "%autoreload 2\n",
    "%config InlineBackend.figure_format='retina'\n",
    "\n",
    "\n",
    "from qa_utils import *\n",
    "\n",
    "# reload\n",
    "%load_ext autoreload\n",
    "%autoreload 2"
   ]
  },
  {
   "cell_type": "code",
   "execution_count": 4,
   "metadata": {},
   "outputs": [],
   "source": [
    "# Merian data repo\n",
    "root = '/projects/MERIAN/repo'\n",
    "butler = dafButler.Butler(root)"
   ]
  },
  {
   "cell_type": "code",
   "execution_count": 5,
   "metadata": {},
   "outputs": [
    {
     "name": "stdout",
     "output_type": "stream",
     "text": [
      "Patch 0\n",
      "No data for  {'tract': 8280, 'patch': 0, 'band': 'N708'}\n",
      "No data for  {'tract': 8280, 'patch': 0, 'band': 'N540'}\n",
      "Patch 1\n",
      "No data for  {'tract': 8280, 'patch': 1, 'band': 'N708'}\n",
      "No data for  {'tract': 8280, 'patch': 1, 'band': 'N540'}\n",
      "Patch 2\n",
      "No data for  {'tract': 8280, 'patch': 2, 'band': 'N708'}\n",
      "No data for  {'tract': 8280, 'patch': 2, 'band': 'N540'}\n",
      "Patch 3\n",
      "No data for  {'tract': 8280, 'patch': 3, 'band': 'N708'}\n",
      "No data for  {'tract': 8280, 'patch': 3, 'band': 'N540'}\n",
      "Patch 4\n",
      "No data for  {'tract': 8280, 'patch': 4, 'band': 'N708'}\n",
      "No data for  {'tract': 8280, 'patch': 4, 'band': 'N540'}\n",
      "Patch 5\n",
      "No data for  {'tract': 8280, 'patch': 5, 'band': 'N708'}\n",
      "No data for  {'tract': 8280, 'patch': 5, 'band': 'N540'}\n",
      "visit id list:  []\n"
     ]
    }
   ],
   "source": [
    "list_tract_ids = [8280] # example tracts\n",
    "\n",
    "dataset = {} # dict to keep key statistics for each tract\n",
    "for tract_id in list_tract_ids:\n",
    "    \n",
    "    dataset[tract_id] = {}\n",
    "    \n",
    "    #---------------- \n",
    "    # Loop over patches to check the num of  visits for each tract\n",
    "    #---------------- \n",
    "    visits_ids = []\n",
    "    for i in range(6):\n",
    "        print('Patch', i )\n",
    "        for bandname in ['N708','N540']:\n",
    "            img_id = {'tract': tract_id, 'patch': i, 'band': bandname}\n",
    "            try:\n",
    "                coadd_ = butler.get('deepCoadd_calexp',\n",
    "                        dataId=img_id,\n",
    "                        instrument='DECam',skymap='hsc_rings_v1',\n",
    "                        collections='DECam/runs/merian/dr1_wide')\n",
    "            except LookupError:\n",
    "                print('No data for ', img_id)\n",
    "                continue\n",
    "            visits = coadd_.getInfo().getCoaddInputs().visits['id']\n",
    "            visits_ids += list(visits)\n",
    "    visits_ids = np.unique(visits_ids)\n",
    "    print('visit id list: ', visits_ids)\n"
   ]
  },
  {
   "cell_type": "code",
   "execution_count": 11,
   "metadata": {},
   "outputs": [
    {
     "data": {
      "text/plain": [
       "Index(['coord_ra', 'coord_dec', 'footprintArea', 'shape_xx', 'yErr',\n",
       "       'detect_isPrimary', 'detect_isIsolated', 'shape_yy', 'shape_xy', 'ebv',\n",
       "       ...\n",
       "       'N540_kronFlux_flag', 'N540_kronFlux_flag_bad_radius',\n",
       "       'N540_kronFlux_flag_bad_shape', 'N540_kronFlux_flag_bad_shape_no_psf',\n",
       "       'N540_kronFlux_flag_edge', 'N540_kronFlux_flag_no_fallback_radius',\n",
       "       'N540_kronFlux_flag_no_minimum_radius',\n",
       "       'N540_kronFlux_flag_small_radius',\n",
       "       'N540_kronFlux_flag_used_minimum_radius',\n",
       "       'N540_kronFlux_flag_used_psf_radius'],\n",
       "      dtype='object', name='column', length=350)"
      ]
     },
     "execution_count": 11,
     "metadata": {},
     "output_type": "execute_result"
    }
   ],
   "source": [
    "obj.columns"
   ]
  },
  {
   "cell_type": "code",
   "execution_count": 8,
   "metadata": {},
   "outputs": [
    {
     "name": "stdout",
     "output_type": "stream",
     "text": [
      "No objectTable_tract for 9813\n"
     ]
    }
   ],
   "source": [
    "tracts = [8280]\n",
    "\n",
    "import lsst.daf.butler as dafButler\n",
    "\n",
    "for tract in tracts:\n",
    "    butler = dafButler.Butler('/projects/MERIAN/repo')\n",
    "    dataId = dict(tract=tract)\n",
    "\n",
    "    try:\n",
    "        obj = butler.get('objectTable_tract', dataId=dataId, instrument='DECam',  skymap='hsc_rings_v1', collections='DECam/runs/merian/dr1_wide')\n",
    "        print(f'Has ObjectTable_tract for {tract}')\n",
    "    except:\n",
    "        print(f'No objectTable_tract for {tract}')\n",
    "        continue\n"
   ]
  },
  {
   "cell_type": "markdown",
   "metadata": {},
   "source": [
    "**Sky Object Check**\n"
   ]
  },
  {
   "cell_type": "code",
   "execution_count": null,
   "metadata": {},
   "outputs": [],
   "source": [
    "# set fname = None so that show the plot in the notebook\n",
    "median, std, mid_patch, std_patch = plot_coadd2d_oneTract(skyobj_cat,tract = tract,colname = 'N540_gaap1p5Flux', fname=None)"
   ]
  },
  {
   "cell_type": "code",
   "execution_count": null,
   "metadata": {},
   "outputs": [],
   "source": [
    "patch_list = np.unique(skyobj_cat['patch_Merian'].data)\n",
    "print(patch_list)\n",
    "\n",
    "\n",
    "colname = 'N540_gaap1p5Flux'\n",
    "\n",
    "fig, axes = plt.subplots(9,9, figsize=(9*2.5,9*2.5), sharex=True, sharey=True)\n",
    "plt.subplots_adjust(hspace=0,wspace=0)\n",
    "\n",
    "\n",
    "xlim = [-400,400]\n",
    "\n",
    "# ---------------- Loop over patches -----------#\n",
    "for patch_id in patch_list:\n",
    "\n",
    "        # load the skyobj catalog for this patch\n",
    "        patch_cat = skyobj_cat[skyobj_cat['patch_Merian']==patch_id]\n",
    "        patch_flux_raw = patch_cat[colname]\n",
    "        mask, patch_flux = sigmaclip(patch_flux_raw)\n",
    "        Neff = len(patch_flux)\n",
    "        \n",
    "        # calculate the median and std of the flux\n",
    "        mid_flux = np.nanmedian(patch_flux)\n",
    "        std_flux = np.sqrt(np.nanmean((patch_flux-mid_flux)**2))\n",
    "        max_flux = np.nanmax(patch_flux)\n",
    "        min_flux = np.nanmin(patch_flux)\n",
    "        \n",
    "        # plot the histogram\n",
    "        nrow = patch_id//9\n",
    "        ncol = patch_id%9\n",
    "\n",
    "\n",
    "        ax = axes[8-nrow][ncol]\n",
    "        ax.hist(patch_flux,bins='auto',facecolor = '#2ab0ff', edgecolor='#169acf', linewidth=0.8,alpha=0.5)\n",
    "        ax.axvline(mid_flux,ls='-',color='tab:blue',lw=1)\n",
    "        ax.axvline(mid_flux - std_flux,ls='--',color='tab:blue',lw=1)\n",
    "        ax.axvline(mid_flux + std_flux,ls='--',color='tab:blue',lw=1)\n",
    "        ax.text(0.95,0.95,s='$\\mu$=%.2f\\n$\\sigma$=%.2f\\n\\nmax=%.2f\\nmin=%.2f'%(mid_flux,std_flux,max_flux,min_flux),transform=ax.transAxes,va='top', ha='right', fontsize=12)\n",
    "        ax.text(0.05, 0.95, s='%d-(%d,%d)'%(patch_id, nrow, ncol), transform=ax.transAxes,va='top', ha='left', fontsize=15, color='tab:red')\n",
    "\n",
    "        ax.set_xlim(xlim[0], xlim[-1])\n",
    "\n",
    "_ = fig.suptitle('Tract %d, %s'%(tract,colname), y=0.9)\n",
    "_ = fig.supxlabel('N708_gaapOptimalFlux', x=0.5, y=0.075)\n",
    "_ = fig.supylabel('Num of Sky Objects', x=0.085, y=0.5)"
   ]
  },
  {
   "cell_type": "code",
   "execution_count": null,
   "metadata": {},
   "outputs": [],
   "source": [
    "\n",
    "violin_fig, violin_axes = plt.subplots(9, 9, figsize=(9*1.5, 9*1.5), sharex=True, sharey=True)\n",
    "plt.subplots_adjust(hspace=0,wspace=0)\n",
    "\n",
    "for patch_id in patch_list:\n",
    "\n",
    "        # load the skyobj catalog for this patch\n",
    "        patch_cat = skyobj_cat[skyobj_cat['patch_Merian']==patch_id]\n",
    "        patch_flux_raw = patch_cat[colname]\n",
    "        mask, patch_flux = sigmaclip(patch_flux_raw)\n",
    "        Neff = len(patch_flux)\n",
    "        \n",
    "        # calculate the median and std of the flux\n",
    "        mid_flux = np.nanmedian(patch_flux)\n",
    "        std_flux = np.sqrt(np.nanmean((patch_flux-mid_flux)**2))\n",
    "        max_flux = np.nanmax(patch_flux)\n",
    "        min_flux = np.nanmin(patch_flux)\n",
    "\n",
    "        # plot the violin plot\n",
    "        nrow = patch_id//9\n",
    "        ncol = patch_id%9\n",
    "        \n",
    "        ax = violin_axes[8-nrow][ncol]\n",
    "        plot_violin(ax,  patch_flux, 1)\n",
    "\n",
    "        ax.set_ylim(-500,500)\n",
    "        ax.set_xticks([])\n",
    "        ax.text(0.05, 0.95, s='%d-(%d,%d)'%(patch_id, nrow, ncol), transform=ax.transAxes,va='top', ha='left', fontsize=15, color='tab:red')\n",
    "\n",
    "_ = violin_fig.suptitle('Tract %d, %s'%(tract,colname), y=0.9)\n",
    " \n",
    "_ = violin_fig.supylabel('N708_gaapOptimalFlux', x=0.05, y=0.5)"
   ]
  }
 ],
 "metadata": {
  "kernelspec": {
   "display_name": "Python 3",
   "language": "python",
   "name": "python3"
  },
  "language_info": {
   "codemirror_mode": {
    "name": "ipython",
    "version": 3
   },
   "file_extension": ".py",
   "mimetype": "text/x-python",
   "name": "python",
   "nbconvert_exporter": "python",
   "pygments_lexer": "ipython3",
   "version": "3.11.7"
  },
  "orig_nbformat": 4
 },
 "nbformat": 4,
 "nbformat_minor": 2
}
