{
 "cells": [
  {
   "cell_type": "code",
   "execution_count": 43,
   "metadata": {},
   "outputs": [
    {
     "name": "stdout",
     "output_type": "stream",
     "text": [
      "The autoreload extension is already loaded. To reload it, use:\n",
      "  %reload_ext autoreload\n"
     ]
    }
   ],
   "source": [
    "%matplotlib inline\n",
    "%load_ext autoreload\n",
    "%autoreload 2\n",
    "\n",
    "import os\n",
    "import sys\n",
    "import copy\n",
    "\n",
    "import numpy as np\n",
    "from scipy import ndimage\n",
    "\n",
    "import astropy.units as u\n",
    "from astropy import wcs\n",
    "from astropy.io import fits\n",
    "from astropy.table import Table, Column\n",
    "from astropy.coordinates import SkyCoord\n",
    "from astropy.visualization import make_lupton_rgb\n",
    "from astropy.utils.data import download_file, clear_download_cache\n",
    "\n",
    "import matplotlib as mpl\n",
    "import matplotlib.pyplot as plt\n",
    "from matplotlib import colors\n",
    "\n",
    "from caterpillar import catalog\n",
    "from caterpillar import selection"
   ]
  },
  {
   "cell_type": "markdown",
   "metadata": {},
   "source": [
    "### Prepare the `Ladybug` calibration samples"
   ]
  },
  {
   "cell_type": "code",
   "execution_count": 44,
   "metadata": {},
   "outputs": [],
   "source": [
    "ladybug_dir = '../../data/cosmos/ladybug/'"
   ]
  },
  {
   "cell_type": "code",
   "execution_count": 57,
   "metadata": {},
   "outputs": [
    {
     "name": "stdout",
     "output_type": "stream",
     "text": [
      "252 72 148\n"
     ]
    }
   ],
   "source": [
    "# Calibration sample\n",
    "ladybug_1 = Table.read(os.path.join(ladybug_dir, 'ladybug_hsc.fits'))\n",
    "\n",
    "# Control sample, low-z\n",
    "ladybug_2 = Table.read(os.path.join(ladybug_dir, 'ladybug_cl_hsc.fits'))\n",
    "\n",
    "# Control sample, high-z\n",
    "ladybug_3 = Table.read(os.path.join(ladybug_dir, 'ladybug_ch_hsc.fits'))\n",
    "\n",
    "print(len(ladybug_1), len(ladybug_2), len(ladybug_3))"
   ]
  },
  {
   "cell_type": "code",
   "execution_count": 58,
   "metadata": {},
   "outputs": [],
   "source": [
    "hsc_mask_1 = (ladybug_1['object_id'] > 0)\n",
    "\n",
    "ladybug_1_hsc = catalog.moments_to_shape(ladybug_1, shape_type='i_cmodel_exp_ellipse', update=True)"
   ]
  },
  {
   "cell_type": "code",
   "execution_count": 59,
   "metadata": {},
   "outputs": [],
   "source": [
    "hsc_mask_2 = (ladybug_2['object_id'] > 0)\n",
    "\n",
    "ladybug_2_hsc = catalog.moments_to_shape(ladybug_2, shape_type='i_cmodel_exp_ellipse', update=True)"
   ]
  },
  {
   "cell_type": "code",
   "execution_count": 60,
   "metadata": {},
   "outputs": [],
   "source": [
    "hsc_mask_3 = (ladybug_3['object_id'] > 0)\n",
    "\n",
    "ladybug_3_hsc = catalog.moments_to_shape(ladybug_3, shape_type='i_cmodel_exp_ellipse', update=True)"
   ]
  },
  {
   "cell_type": "code",
   "execution_count": 61,
   "metadata": {},
   "outputs": [
    {
     "data": {
      "image/png": "[encoded data removed]",
      "text/plain": [
       "<Figure size 432x288 with 1 Axes>"
      ]
     },
     "metadata": {
      "needs_background": "light"
     },
     "output_type": "display_data"
    }
   ],
   "source": [
    "_ = plt.hist(ladybug_1_hsc['i_cmodel_exp_ellipse_r'])\n",
    "_ = plt.hist(ladybug_2_hsc['i_cmodel_exp_ellipse_r'])\n",
    "_ = plt.hist(ladybug_3_hsc['i_cmodel_exp_ellipse_r'])"
   ]
  },
  {
   "cell_type": "code",
   "execution_count": 62,
   "metadata": {},
   "outputs": [],
   "source": [
    "ladybug_1_hsc['i_cmodel_exp_ellipse_r'][~hsc_mask_1] = 0.5\n",
    "ladybug_2_hsc['i_cmodel_exp_ellipse_r'][~hsc_mask_2] = 0.5\n",
    "ladybug_3_hsc['i_cmodel_exp_ellipse_r'][~hsc_mask_3] = 0.5"
   ]
  },
  {
   "cell_type": "code",
   "execution_count": 63,
   "metadata": {},
   "outputs": [],
   "source": [
    "ladybug_1_hsc = selection.add_dynamic_poststamp_size(\n",
    "    ladybug_1_hsc, size_col='i_cmodel_exp_ellipse_r', size_factor=10., \n",
    "    min_size=3, max_size=20)\n",
    "\n",
    "ladybug_2_hsc = selection.add_dynamic_poststamp_size(\n",
    "    ladybug_2_hsc, size_col='i_cmodel_exp_ellipse_r', size_factor=10., \n",
    "    min_size=3, max_size=20)\n",
    "\n",
    "ladybug_3_hsc = selection.add_dynamic_poststamp_size(\n",
    "    ladybug_3_hsc, size_col='i_cmodel_exp_ellipse_r', size_factor=10., \n",
    "    min_size=3, max_size=20)"
   ]
  },
  {
   "cell_type": "code",
   "execution_count": 67,
   "metadata": {},
   "outputs": [],
   "source": [
    "ladybug_1.write(os.path.join(ladybug_dir, 'ladybug_hsc_size.fits'), overwrite=True)\n",
    "ladybug_2.write(os.path.join(ladybug_dir, 'ladybug_cl_hsc_size.fits'), overwrite=True)\n",
    "ladybug_3.write(os.path.join(ladybug_dir, 'ladybug_ch_hsc_size.fits'), overwrite=True)"
   ]
  },
  {
   "cell_type": "code",
   "execution_count": null,
   "metadata": {},
   "outputs": [],
   "source": []
  }
 ],
 "metadata": {
  "kernelspec": {
   "display_name": "Python 3",
   "language": "python",
   "name": "python3"
  },
  "language_info": {
   "codemirror_mode": {
    "name": "ipython",
    "version": 3
   },
   "file_extension": ".py",
   "mimetype": "text/x-python",
   "name": "python",
   "nbconvert_exporter": "python",
   "pygments_lexer": "ipython3",
   "version": "3.8.8"
  }
 },
 "nbformat": 4,
 "nbformat_minor": 4
}
