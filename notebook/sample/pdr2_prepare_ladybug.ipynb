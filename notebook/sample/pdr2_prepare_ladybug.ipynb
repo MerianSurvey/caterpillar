{
 "cells": [
  {
   "cell_type": "code",
   "execution_count": 1,
   "metadata": {},
   "outputs": [],
   "source": [
    "%matplotlib inline\n",
    "%load_ext autoreload\n",
    "%autoreload 2\n",
    "\n",
    "import os\n",
    "import sys\n",
    "import copy\n",
    "\n",
    "import numpy as np\n",
    "from scipy import ndimage\n",
    "\n",
    "import astropy.units as u\n",
    "from astropy import wcs\n",
    "from astropy.io import fits\n",
    "from astropy.table import Table, Column\n",
    "from astropy.coordinates import SkyCoord\n",
    "from astropy.visualization import make_lupton_rgb\n",
    "from astropy.utils.data import download_file, clear_download_cache\n",
    "\n",
    "import matplotlib as mpl\n",
    "import matplotlib.pyplot as plt\n",
    "from matplotlib import colors\n",
    "\n",
    "from caterpillar import catalog\n",
    "from caterpillar import selection"
   ]
  },
  {
   "cell_type": "markdown",
   "metadata": {},
   "source": [
    "### Prepare the `Ladybug` calibration samples"
   ]
  },
  {
   "cell_type": "code",
   "execution_count": 2,
   "metadata": {},
   "outputs": [],
   "source": [
    "ladybug_dir = '../../data/cosmos/ladybug/'"
   ]
  },
  {
   "cell_type": "code",
   "execution_count": 3,
   "metadata": {},
   "outputs": [
    {
     "name": "stdout",
     "output_type": "stream",
     "text": [
      "252 72 148\n"
     ]
    }
   ],
   "source": [
    "# Calibration sample\n",
    "ladybug_1 = Table.read(os.path.join(ladybug_dir, 'ladybug.fits'))\n",
    "\n",
    "# Control sample, low-z\n",
    "ladybug_2 = Table.read(os.path.join(ladybug_dir, 'ladybug_control_lowerz.fits'))\n",
    "\n",
    "# Control sample, high-z\n",
    "ladybug_3 = Table.read(os.path.join(ladybug_dir, 'ladybug_control_higherz.fits'))\n",
    "\n",
    "print(len(ladybug_1), len(ladybug_2), len(ladybug_3))"
   ]
  },
  {
   "cell_type": "code",
   "execution_count": 5,
   "metadata": {},
   "outputs": [
    {
     "data": {
      "text/html": [
       "<i>Table length=72</i>\n",
       "<table id=\"table5050005584\" class=\"table-striped table-bordered table-condensed\">\n",
       "<thead><tr><th>ALPHA_J2000</th><th>DELTA_J2000</th><th>r_MAG_AUTO_corr</th><th>z_cosmos</th><th>mass_cosmos</th></tr></thead>\n",
       "<thead><tr><th>deg</th><th>deg</th><th></th><th></th><th></th></tr></thead>\n",
       "<thead><tr><th>float64</th><th>float64</th><th>float64</th><th>float64</th><th>float64</th></tr></thead>\n",
       "<tr><td>150.22130497273568</td><td>1.6675643452191942</td><td>23.501512647324205</td><td>0.042399998754262924</td><td>7.02067</td></tr>\n",
       "<tr><td>150.3068831875431</td><td>1.8182274295302263</td><td>22.299961489965618</td><td>0.03692149</td><td>8.50074</td></tr>\n",
       "<tr><td>150.23448883164582</td><td>1.8860057990498407</td><td>20.962656704412403</td><td>0.04259255</td><td>7.40008</td></tr>\n",
       "<tr><td>150.21463023465492</td><td>1.8938183666229007</td><td>22.61392283004224</td><td>0.03003998</td><td>7.15354</td></tr>\n",
       "<tr><td>149.79029639383222</td><td>1.9293961627366059</td><td>20.64806451944709</td><td>0.04616097</td><td>8.16778</td></tr>\n",
       "<tr><td>150.52301461172573</td><td>1.961019048093143</td><td>20.835537438698708</td><td>0.037255716</td><td>8.23134</td></tr>\n",
       "<tr><td>150.14626970252354</td><td>2.003385576259879</td><td>20.368797657037078</td><td>0.0528</td><td>7.98473</td></tr>\n",
       "<tr><td>150.05664782850872</td><td>2.00953189716006</td><td>21.634986362313928</td><td>0.05000000074505806</td><td>7.53539</td></tr>\n",
       "<tr><td>149.95602007277478</td><td>2.0179259969549803</td><td>23.33249224032104</td><td>0.0489</td><td>7.01251</td></tr>\n",
       "<tr><td>...</td><td>...</td><td>...</td><td>...</td><td>...</td></tr>\n",
       "<tr><td>149.56366512558216</td><td>2.6942083040537126</td><td>22.855366225185392</td><td>0.039000000804662704</td><td>7.2468</td></tr>\n",
       "<tr><td>150.44426188244367</td><td>2.7178540245290734</td><td>22.037844198497535</td><td>0.037081018</td><td>7.35229</td></tr>\n",
       "<tr><td>150.4685419796608</td><td>2.7378954060396956</td><td>22.435156113034488</td><td>0.030549146</td><td>8.823</td></tr>\n",
       "<tr><td>149.92858826995948</td><td>2.745996376134024</td><td>21.719884144383965</td><td>0.031296622</td><td>8.22969</td></tr>\n",
       "<tr><td>149.7165587737049</td><td>2.753329515385664</td><td>22.5227277169925</td><td>0.036462873</td><td>7.0125</td></tr>\n",
       "<tr><td>149.72144218901363</td><td>2.776014277984139</td><td>19.282808232096137</td><td>0.0504</td><td>8.65086</td></tr>\n",
       "<tr><td>149.81051402824514</td><td>2.7881794091383347</td><td>22.068296242684422</td><td>0.053380292</td><td>7.01539</td></tr>\n",
       "<tr><td>149.71328095765583</td><td>2.7867542277437893</td><td>20.34903576956123</td><td>0.0508</td><td>8.12673</td></tr>\n",
       "<tr><td>150.4088541976531</td><td>2.805246115970707</td><td>20.400825024658143</td><td>0.043795455</td><td>7.45246</td></tr>\n",
       "<tr><td>150.56675474872984</td><td>2.809256186465084</td><td>22.42505751483172</td><td>0.037340235</td><td>8.63479</td></tr>\n",
       "</table>"
      ],
      "text/plain": [
       "<Table length=72>\n",
       "   ALPHA_J2000        DELTA_J2000     ...       z_cosmos       mass_cosmos\n",
       "       deg                deg         ...                                 \n",
       "     float64            float64       ...       float64          float64  \n",
       "------------------ ------------------ ... -------------------- -----------\n",
       "150.22130497273568 1.6675643452191942 ... 0.042399998754262924     7.02067\n",
       " 150.3068831875431 1.8182274295302263 ...           0.03692149     8.50074\n",
       "150.23448883164582 1.8860057990498407 ...           0.04259255     7.40008\n",
       "150.21463023465492 1.8938183666229007 ...           0.03003998     7.15354\n",
       "149.79029639383222 1.9293961627366059 ...           0.04616097     8.16778\n",
       "150.52301461172573  1.961019048093143 ...          0.037255716     8.23134\n",
       "150.14626970252354  2.003385576259879 ...               0.0528     7.98473\n",
       "150.05664782850872   2.00953189716006 ...  0.05000000074505806     7.53539\n",
       "149.95602007277478 2.0179259969549803 ...               0.0489     7.01251\n",
       "               ...                ... ...                  ...         ...\n",
       "149.56366512558216 2.6942083040537126 ... 0.039000000804662704      7.2468\n",
       "150.44426188244367 2.7178540245290734 ...          0.037081018     7.35229\n",
       " 150.4685419796608 2.7378954060396956 ...          0.030549146       8.823\n",
       "149.92858826995948  2.745996376134024 ...          0.031296622     8.22969\n",
       " 149.7165587737049  2.753329515385664 ...          0.036462873      7.0125\n",
       "149.72144218901363  2.776014277984139 ...               0.0504     8.65086\n",
       "149.81051402824514 2.7881794091383347 ...          0.053380292     7.01539\n",
       "149.71328095765583 2.7867542277437893 ...               0.0508     8.12673\n",
       " 150.4088541976531  2.805246115970707 ...          0.043795455     7.45246\n",
       "150.56675474872984  2.809256186465084 ...          0.037340235     8.63479"
      ]
     },
     "execution_count": 5,
     "metadata": {},
     "output_type": "execute_result"
    }
   ],
   "source": [
    "ladybug_2"
   ]
  },
  {
   "cell_type": "code",
   "execution_count": null,
   "metadata": {},
   "outputs": [],
   "source": []
  }
 ],
 "metadata": {
  "kernelspec": {
   "display_name": "Python 3",
   "language": "python",
   "name": "python3"
  },
  "language_info": {
   "codemirror_mode": {
    "name": "ipython",
    "version": 3
   },
   "file_extension": ".py",
   "mimetype": "text/x-python",
   "name": "python",
   "nbconvert_exporter": "python",
   "pygments_lexer": "ipython3",
   "version": "3.8.8"
  }
 },
 "nbformat": 4,
 "nbformat_minor": 4
}
