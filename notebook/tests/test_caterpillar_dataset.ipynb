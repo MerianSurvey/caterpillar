{
 "cells": [
  {
   "cell_type": "code",
   "execution_count": 1,
   "metadata": {},
   "outputs": [],
   "source": [
    "%matplotlib inline\n",
    "%load_ext autoreload\n",
    "%autoreload 2\n",
    "\n",
    "import os\n",
    "import copy\n",
    "\n",
    "import numpy as np \n",
    "\n",
    "from astropy.io import fits\n",
    "from astropy.table import Table, Column\n",
    "\n",
    "import matplotlib.pyplot as plt"
   ]
  },
  {
   "cell_type": "code",
   "execution_count": 3,
   "metadata": {},
   "outputs": [],
   "source": [
    "from caterpillar.dataset import Dataset"
   ]
  },
  {
   "cell_type": "markdown",
   "metadata": {},
   "source": [
    "### Test the basic functions of `Dataset` class\n",
    "\n",
    "* Using the local files of a single LAGER exposure: \"/Users/song/Downloads/merian/lager/\""
   ]
  },
  {
   "cell_type": "code",
   "execution_count": 63,
   "metadata": {},
   "outputs": [],
   "source": [
    "test_dir = '/Users/song/Downloads/merian/lager/'\n",
    "\n",
    "lager_test = Dataset(test_dir, suffix='fits.fz')"
   ]
  },
  {
   "cell_type": "code",
   "execution_count": 31,
   "metadata": {},
   "outputs": [
    {
     "data": {
      "text/plain": [
       "'/Users/song/Downloads/merian/lager/'"
      ]
     },
     "execution_count": 31,
     "metadata": {},
     "output_type": "execute_result"
    }
   ],
   "source": [
    "lager_test.data_dir"
   ]
  },
  {
   "cell_type": "code",
   "execution_count": 32,
   "metadata": {},
   "outputs": [
    {
     "data": {
      "text/plain": [
       "['/Users/song/Downloads/merian/lager/c4d_151208_074244_ooi_N964_v2.fits.fz',\n",
       " '/Users/song/Downloads/merian/lager/c4d_151208_074244_oow_N964_v2.fits.fz',\n",
       " '/Users/song/Downloads/merian/lager/c4d_151208_074244_ood_N964_v2.fits.fz']"
      ]
     },
     "execution_count": 32,
     "metadata": {},
     "output_type": "execute_result"
    }
   ],
   "source": [
    "lager_test.file_list"
   ]
  },
  {
   "cell_type": "code",
   "execution_count": 34,
   "metadata": {},
   "outputs": [
    {
     "data": {
      "text/plain": [
       "3"
      ]
     },
     "execution_count": 34,
     "metadata": {},
     "output_type": "execute_result"
    }
   ],
   "source": [
    "lager_test.n_file"
   ]
  },
  {
   "cell_type": "code",
   "execution_count": 48,
   "metadata": {},
   "outputs": [
    {
     "data": {
      "text/plain": [
       "['c4d_151208_074244']"
      ]
     },
     "execution_count": 48,
     "metadata": {},
     "output_type": "execute_result"
    }
   ],
   "source": [
    "lager_test.exposures"
   ]
  },
  {
   "cell_type": "code",
   "execution_count": 49,
   "metadata": {},
   "outputs": [
    {
     "data": {
      "text/plain": [
       "['c4d_151208_074244_oo']"
      ]
     },
     "execution_count": 49,
     "metadata": {},
     "output_type": "execute_result"
    }
   ],
   "source": [
    "lager_test.processes"
   ]
  },
  {
   "cell_type": "code",
   "execution_count": 64,
   "metadata": {},
   "outputs": [
    {
     "data": {
      "text/plain": [
       "['/Users/song/Downloads/merian/lager/c4d_151208_074244_ooi_N964_v2.fits.fz',\n",
       " '/Users/song/Downloads/merian/lager/c4d_151208_074244_oow_N964_v2.fits.fz',\n",
       " '/Users/song/Downloads/merian/lager/c4d_151208_074244_ood_N964_v2.fits.fz']"
      ]
     },
     "execution_count": 64,
     "metadata": {},
     "output_type": "execute_result"
    }
   ],
   "source": [
    "lager_test.get_products(lager_test.processes[0])"
   ]
  },
  {
   "cell_type": "code",
   "execution_count": 59,
   "metadata": {},
   "outputs": [
    {
     "data": {
      "text/html": [
       "<i>Table length=3</i>\n",
       "<table id=\"table4802203456\" class=\"table-striped table-bordered table-condensed\">\n",
       "<thead><tr><th>date</th><th>object</th><th>obstype</th><th>proctype</th><th>prodtype</th><th>pixscal1</th><th>pixscal2</th><th>exptime</th><th>obsid</th><th>date-obs</th><th>time-obs</th><th>mjd-obs</th><th>mjd-end</th><th>propid</th><th>filter</th><th>centra</th><th>centdec</th><th>corn1ra</th><th>corn1dec</th><th>corn2ra</th><th>corn2dec</th><th>corn3ra</th><th>corn3dec</th><th>corn4ra</th><th>corn4dec</th><th>ha</th><th>zd</th><th>az</th><th>dimmsee</th><th>airmass</th><th>humidity</th><th>dtnsanam</th><th>radesys</th><th>radecsys</th><th>equinox</th><th>photflag</th><th>scampflg</th><th>photref</th><th>magzero</th><th>magzpt</th><th>nphtmtch</th><th>skysub</th><th>plver</th><th>wcscal</th></tr></thead>\n",
       "<thead><tr><th>str19</th><th>str6</th><th>str6</th><th>str7</th><th>str6</th><th>float64</th><th>float64</th><th>float64</th><th>str19</th><th>str26</th><th>str15</th><th>float64</th><th>float64</th><th>str10</th><th>str28</th><th>float64</th><th>float64</th><th>float64</th><th>float64</th><th>float64</th><th>float64</th><th>float64</th><th>float64</th><th>float64</th><th>float64</th><th>str13</th><th>float64</th><th>float64</th><th>float64</th><th>float64</th><th>float64</th><th>str37</th><th>str3</th><th>str4</th><th>float64</th><th>int64</th><th>int64</th><th>str3</th><th>float64</th><th>float64</th><th>int64</th><th>float64</th><th>str4</th><th>str10</th></tr></thead>\n",
       "<tr><td>2018-02-10T00:29:15</td><td>COSMOS</td><td>object</td><td>InstCal</td><td>image</td><td>0.27</td><td>0.27</td><td>900.0</td><td>ct4m20151208t072654</td><td>2015-12-08T07:26:54.397275</td><td>07:26:54.397275</td><td>57364.31035182</td><td>57364.320768487</td><td>2015B-0603</td><td>N964 DECam c0008 9645.0 94.0</td><td>150.1166</td><td>2.217223</td><td>149.034881</td><td>1.23828805</td><td>151.19864</td><td>1.23828805</td><td>149.034881</td><td>3.1960858</td><td>151.19864</td><td>3.1960858</td><td>-02:10:39.530</td><td>44.96</td><td>49.9439</td><td>0.601</td><td>1.41</td><td>54.0</td><td>c4d_151208_074244_ooi_N964_v2.fits.fz</td><td>FK5</td><td>ICRS</td><td>2000.0</td><td>0</td><td>0</td><td>PS1</td><td>28.906</td><td>21.52</td><td>2698</td><td>809.8171</td><td>V4.1</td><td>Successful</td></tr>\n",
       "<tr><td>2018-02-10T00:36:17</td><td>COSMOS</td><td>object</td><td>InstCal</td><td>wtmap</td><td>0.27</td><td>0.27</td><td>900.0</td><td>ct4m20151208t072654</td><td>2015-12-08T07:26:54.397275</td><td>07:26:54.397275</td><td>57364.31035182</td><td>57364.320768487</td><td>2015B-0603</td><td>N964 DECam c0008 9645.0 94.0</td><td>150.1166</td><td>2.217223</td><td>149.034881</td><td>1.23828805</td><td>151.19864</td><td>1.23828805</td><td>149.034881</td><td>3.1960858</td><td>151.19864</td><td>3.1960858</td><td>-02:10:39.530</td><td>44.96</td><td>49.9439</td><td>0.601</td><td>1.41</td><td>54.0</td><td>c4d_151208_074244_oow_N964_v2.fits.fz</td><td>FK5</td><td>ICRS</td><td>2000.0</td><td>0</td><td>0</td><td>PS1</td><td>28.906</td><td>21.52</td><td>2698</td><td>809.8171</td><td>V4.1</td><td>Successful</td></tr>\n",
       "<tr><td>2018-02-10T00:36:01</td><td>COSMOS</td><td>object</td><td>InstCal</td><td>dqmask</td><td>0.27</td><td>0.27</td><td>900.0</td><td>ct4m20151208t072654</td><td>2015-12-08T07:26:54.397275</td><td>07:26:54.397275</td><td>57364.31035182</td><td>57364.320768487</td><td>2015B-0603</td><td>N964 DECam c0008 9645.0 94.0</td><td>150.1166</td><td>2.217223</td><td>149.034881</td><td>1.23828805</td><td>151.19864</td><td>1.23828805</td><td>149.034881</td><td>3.1960858</td><td>151.19864</td><td>3.1960858</td><td>-02:10:39.530</td><td>44.96</td><td>49.9439</td><td>0.601</td><td>1.41</td><td>54.0</td><td>c4d_151208_074244_ood_N964_v2.fits.fz</td><td>FK5</td><td>ICRS</td><td>2000.0</td><td>0</td><td>0</td><td>PS1</td><td>28.906</td><td>21.52</td><td>2698</td><td>809.8171</td><td>V4.1</td><td>Successful</td></tr>\n",
       "</table>"
      ],
      "text/plain": [
       "<Table length=3>\n",
       "        date        object obstype proctype ...  skysub  plver   wcscal  \n",
       "       str19         str6    str6    str7   ... float64   str4   str10   \n",
       "------------------- ------ ------- -------- ... -------- ----- ----------\n",
       "2018-02-10T00:29:15 COSMOS  object  InstCal ... 809.8171  V4.1 Successful\n",
       "2018-02-10T00:36:17 COSMOS  object  InstCal ... 809.8171  V4.1 Successful\n",
       "2018-02-10T00:36:01 COSMOS  object  InstCal ... 809.8171  V4.1 Successful"
      ]
     },
     "execution_count": 59,
     "metadata": {},
     "output_type": "execute_result"
    }
   ],
   "source": [
    "lager_test.meta_table()"
   ]
  },
  {
   "cell_type": "code",
   "execution_count": null,
   "metadata": {},
   "outputs": [],
   "source": []
  }
 ],
 "metadata": {
  "kernelspec": {
   "display_name": "Python 3",
   "language": "python",
   "name": "python3"
  },
  "language_info": {
   "codemirror_mode": {
    "name": "ipython",
    "version": 3
   },
   "file_extension": ".py",
   "mimetype": "text/x-python",
   "name": "python",
   "nbconvert_exporter": "python",
   "pygments_lexer": "ipython3",
   "version": "3.8.6"
  }
 },
 "nbformat": 4,
 "nbformat_minor": 4
}
