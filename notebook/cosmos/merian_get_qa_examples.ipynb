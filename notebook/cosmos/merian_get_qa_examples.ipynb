{
 "cells": [
  {
   "cell_type": "code",
   "execution_count": 1,
   "id": "located-migration",
   "metadata": {},
   "outputs": [],
   "source": [
    "%load_ext autoreload\n",
    "%autoreload 2\n",
    "\n",
    "import os\n",
    "import copy\n",
    "import pickle\n",
    "import warnings\n",
    "\n",
    "import numpy as np\n",
    "\n",
    "from astropy.table import Table, QTable, Column"
   ]
  },
  {
   "cell_type": "code",
   "execution_count": 2,
   "id": "physical-single",
   "metadata": {},
   "outputs": [],
   "source": [
    "%matplotlib inline\n",
    "import matplotlib.pyplot as plt"
   ]
  },
  {
   "cell_type": "code",
   "execution_count": 3,
   "id": "military-mathematics",
   "metadata": {},
   "outputs": [],
   "source": [
    "import lsst.daf.butler as dafButler\n",
    "import lsst.afw.image as afwImage"
   ]
  },
  {
   "cell_type": "markdown",
   "id": "foster-design",
   "metadata": {},
   "source": [
    "# Examples of QA data\n",
    "\n",
    "- Mainly for Xiaojing and Mingyu"
   ]
  },
  {
   "cell_type": "code",
   "execution_count": 4,
   "id": "improved-ocean",
   "metadata": {},
   "outputs": [],
   "source": [
    "# Merian data repo\n",
    "root = '/projects/MERIAN/repo'\n",
    "\n",
    "butler = dafButler.Butler(root)"
   ]
  },
  {
   "cell_type": "code",
   "execution_count": 5,
   "id": "affected-enforcement",
   "metadata": {},
   "outputs": [],
   "source": [
    "output_dir = '/tigress/sh19/public_html/cosmos/202203'"
   ]
  },
  {
   "cell_type": "markdown",
   "id": "broke-movement",
   "metadata": {},
   "source": [
    "## Merian Coadd Catalogs \n",
    "\n",
    "### `N708`\n",
    "\n",
    "- Going to use the \"Deep\" version since it has pretty uniform coverage"
   ]
  },
  {
   "cell_type": "code",
   "execution_count": 6,
   "id": "reported-shirt",
   "metadata": {},
   "outputs": [],
   "source": [
    "n708_rerun = 'DECam/runs/merian/w_2022_02/t9813_deep_N708'\n",
    "\n",
    "n708_dataid = dict(tract=9813, band='N708')\n",
    "\n",
    "n708_coadd = butler.get(\n",
    "    'objectTable_tract', dataId=n708_dataid, instrument='DECam', skymap='hsc_rings_v1', collections=n708_rerun)"
   ]
  },
  {
   "cell_type": "code",
   "execution_count": 7,
   "id": "polyphonic-italic",
   "metadata": {},
   "outputs": [
    {
     "data": {
      "text/plain": [
       "1816938"
      ]
     },
     "execution_count": 7,
     "metadata": {},
     "output_type": "execute_result"
    }
   ],
   "source": [
    "# This is the coadd catalog from the whole Tract, including real and sky objects\n",
    "\n",
    "len(n708_coadd)"
   ]
  },
  {
   "cell_type": "code",
   "execution_count": 8,
   "id": "roman-proposition",
   "metadata": {},
   "outputs": [
    {
     "data": {
      "text/plain": [
       "pandas.core.frame.DataFrame"
      ]
     },
     "execution_count": 8,
     "metadata": {},
     "output_type": "execute_result"
    }
   ],
   "source": [
    "# The output is a Pandas.DataFrame\n",
    "type(n708_coadd)"
   ]
  },
  {
   "cell_type": "code",
   "execution_count": 9,
   "id": "downtown-banana",
   "metadata": {},
   "outputs": [
    {
     "name": "stdout",
     "output_type": "stream",
     "text": [
      "['shape_xx', 'shape_flag', 'sky_object', 'coord_dec', 'refBand', 'deblend_nChild', 'shape_yy', 'parentObjectId', 'shape_xy', 'merge_peak_sky', 'xErr', 'yErr', 'y', 'detect_isDeblendedSource', 'detect_fromBlend', 'deblend_skipped', 'refFwhm', 'refExtendedness', 'detect_isPrimary', 'footprintArea', 'detect_isPatchInner', 'coord_ra', 'detect_isTractInner', 'xy_flag', 'x', 'detect_isDeblendedModelSource', 'detect_isIsolated', 'skymap', 'tract', 'patch', 'N708_ra', 'N708_decl', 'N708_psfFlux', 'N708_psfFluxErr', 'N708_free_psfFlux', 'N708_free_psfFluxErr', 'N708_free_psfFlux_flag', 'N708_bdE1', 'N708_bdE2', 'N708_bdReB', 'N708_bdReD', 'N708_bdChi2', 'N708_bdFluxB', 'N708_bdFluxBErr', 'N708_bdFluxD', 'N708_bdFluxDErr', 'N708_gaapPsfFlux', 'N708_gaapPsfFluxErr', 'N708_gaap0p5Flux', 'N708_gaap0p5FluxErr', 'N708_gaap0p7Flux', 'N708_gaap0p7FluxErr', 'N708_gaap1p0Flux', 'N708_gaap1p0FluxErr', 'N708_gaap1p5Flux', 'N708_gaap1p5FluxErr', 'N708_gaap2p5Flux', 'N708_gaap2p5FluxErr', 'N708_gaap3p0Flux', 'N708_gaap3p0FluxErr', 'N708_gaapOptimalFlux', 'N708_gaapOptimalFluxErr', 'N708_ixx', 'N708_iyy', 'N708_ixy', 'N708_i_flag', 'N708_ixxPSF', 'N708_iyyPSF', 'N708_ixyPSF', 'N708_iPSF_flag', 'N708_ixxRound', 'N708_iyyRound', 'N708_ixyRound', 'N708_iRound_flag', 'N708_ixxDebiasedPSF', 'N708_iyyDebiasedPSF', 'N708_ixyDebiasedPSF', 'N708_iDebiasedPSF_flag', 'N708_kronRad', 'N708_kronFlux', 'N708_kronFluxErr', 'N708_calibFlux', 'N708_calibFluxErr', 'N708_ap03Flux', 'N708_ap03FluxErr', 'N708_ap03Flux_flag', 'N708_ap06Flux', 'N708_ap06FluxErr', 'N708_ap06Flux_flag', 'N708_ap09Flux', 'N708_ap09FluxErr', 'N708_ap09Flux_flag', 'N708_ap12Flux', 'N708_ap12FluxErr', 'N708_ap12Flux_flag', 'N708_ap17Flux', 'N708_ap17FluxErr', 'N708_ap17Flux_flag', 'N708_ap25Flux', 'N708_ap25FluxErr', 'N708_ap25Flux_flag', 'N708_ap35Flux', 'N708_ap35FluxErr', 'N708_ap35Flux_flag', 'N708_ap50Flux', 'N708_ap50FluxErr', 'N708_ap50Flux_flag', 'N708_ap70Flux', 'N708_ap70FluxErr', 'N708_ap70Flux_flag', 'N708_extendedness', 'N708_blendedness', 'N708_fwhm', 'N708_cModelFlux', 'N708_cModelFluxErr', 'N708_cModelFlux_inner', 'N708_free_cModelFlux', 'N708_free_cModelFluxErr', 'N708_free_cModelFlux_inner', 'N708_free_cModelFlux_flag', 'N708_hsmShapeRegauss_e1', 'N708_hsmShapeRegauss_e2', 'N708_hsmShapeRegauss_sigma', 'N708_hsmShapeRegauss_flag', 'N708_inputCount', 'N708_inputCount_flag', 'N708_inputCount_flag_noInputs', 'N708_psfFlux_area', 'N708_psfFlux_flag', 'N708_psfFlux_flag_apCorr', 'N708_psfFlux_flag_edge', 'N708_psfFlux_flag_noGoodPixels', 'N708_cModel_flag', 'N708_cModel_flag_apCorr', 'N708_gaapFlux_flag', 'N708_gaapFlux_flag_edge', 'N708_gaapFlux_flag_gaussianization', 'N708_gaapOptimalFlux_flag_bigPsf', 'N708_gaap0p5Flux_flag_bigPsf', 'N708_gaap0p7Flux_flag_bigPsf', 'N708_gaap1p0Flux_flag_bigPsf', 'N708_gaap1p5Flux_flag_bigPsf', 'N708_gaap2p5Flux_flag_bigPsf', 'N708_gaap3p0Flux_flag_bigPsf', 'N708_blendedness_flag', 'N708_pixelFlags_bad', 'N708_pixelFlags_clipped', 'N708_pixelFlags_clippedCenter', 'N708_pixelFlags_cr', 'N708_pixelFlags_crCenter', 'N708_pixelFlags_edge', 'N708_pixelFlags_inexact_psf', 'N708_pixelFlags_inexact_psfCenter', 'N708_pixelFlags_interpolated', 'N708_pixelFlags_interpolatedCenter', 'N708_pixelFlags_offimage', 'N708_pixelFlags_saturated', 'N708_pixelFlags_saturatedCenter', 'N708_pixelFlags_sensor_edge', 'N708_pixelFlags_sensor_edgeCenter', 'N708_pixelFlags_suspect', 'N708_pixelFlags_suspectCenter', 'N708_extendedness_flag', 'N708_calib_astrometry_used', 'N708_calib_photometry_reserved', 'N708_calib_photometry_used', 'N708_calib_psf_candidate', 'N708_calib_psf_reserved', 'N708_calib_psf_used', 'N708_apFlux_flag', 'N708_apFlux_flag_apertureTruncated', 'N708_apFlux_flag_sincCoeffsTruncated', 'N708_calibFlux_flag', 'N708_calibFlux_flag_apertureTruncated', 'N708_calibFlux_flag_sincCoeffsTruncated', 'N708_centroid_flag', 'N708_centroid_x', 'N708_centroid_xErr', 'N708_centroid_y', 'N708_centroid_yErr', 'N708_kronFlux_flag', 'N708_kronFlux_flag_bad_radius', 'N708_kronFlux_flag_bad_shape', 'N708_kronFlux_flag_bad_shape_no_psf', 'N708_kronFlux_flag_edge', 'N708_kronFlux_flag_no_fallback_radius', 'N708_kronFlux_flag_no_minimum_radius', 'N708_kronFlux_flag_small_radius', 'N708_kronFlux_flag_used_minimum_radius', 'N708_kronFlux_flag_used_psf_radius']\n"
     ]
    }
   ],
   "source": [
    "# Unfortunately, the order of the columns is not perfect...you have to search for the one you want\n",
    "print(n708_coadd.columns.values.tolist())"
   ]
  },
  {
   "cell_type": "code",
   "execution_count": 12,
   "id": "lucky-workshop",
   "metadata": {},
   "outputs": [
    {
     "data": {
      "text/plain": [
       "6979"
      ]
     },
     "execution_count": 12,
     "metadata": {},
     "output_type": "execute_result"
    }
   ],
   "source": [
    "# This flag is for sky object\n",
    "\n",
    "sky_flag = (n708_coadd['merge_peak_sky'] == True)\n",
    "sky_flag.sum()"
   ]
  },
  {
   "cell_type": "code",
   "execution_count": 19,
   "id": "pressing-premium",
   "metadata": {},
   "outputs": [
    {
     "data": {
      "text/plain": [
       "824658"
      ]
     },
     "execution_count": 19,
     "metadata": {},
     "output_type": "execute_result"
    }
   ],
   "source": [
    "# For real galaxies, we only want the Primary object\n",
    "\n",
    "prim_flag = (~sky_flag & n708_coadd['detect_isPrimary'] & (n708_coadd['deblend_nChild'] == 0))\n",
    "prim_flag.sum()"
   ]
  },
  {
   "cell_type": "code",
   "execution_count": 21,
   "id": "mounted-vision",
   "metadata": {},
   "outputs": [],
   "source": [
    "# The DataFrame can be directly saved as Pickle, HDF5, and Parquet format\n",
    "\n",
    "n708_coadd[sky_flag].to_pickle(\n",
    "    os.path.join(output_dir, 'coadd', 'n708', 'merian_n708_deep_9813_sky.pkl'))\n",
    "\n",
    "n708_coadd[prim_flag].to_pickle(\n",
    "    os.path.join(output_dir, 'coadd', 'n708', 'merian_n708_deep_9813_primary.pkl'))"
   ]
  },
  {
   "cell_type": "code",
   "execution_count": 25,
   "id": "improving-coupon",
   "metadata": {},
   "outputs": [],
   "source": [
    "# If you want to save it as an old-fashioned FITS table, you have to use Astropy.Table\n",
    "\n",
    "Table.from_pandas(n708_coadd).write(\n",
    "    os.path.join(output_dir, 'coadd', 'n708', 'merian_n708_deep_9813.fits'), format='fits', overwrite=True)"
   ]
  },
  {
   "cell_type": "markdown",
   "id": "nonprofit-antigua",
   "metadata": {},
   "source": [
    "### `N540`"
   ]
  },
  {
   "cell_type": "code",
   "execution_count": 27,
   "id": "balanced-still",
   "metadata": {},
   "outputs": [],
   "source": [
    "n540_rerun = 'DECam/runs/merian/w_2022_02/t9813_deep_N540'\n",
    "\n",
    "n540_dataid = dict(tract=9813, band='N540')\n",
    "\n",
    "n540_coadd = butler.get(\n",
    "    'objectTable_tract', dataId=n540_dataid, instrument='DECam', skymap='hsc_rings_v1', collections=n540_rerun)\n",
    "\n",
    "# Sky objects\n",
    "sky_flag = (n540_coadd['merge_peak_sky'] == True)\n",
    "sky_flag.sum()\n",
    "\n",
    "n540_coadd[sky_flag].to_pickle(\n",
    "    os.path.join(output_dir, 'coadd', 'n540', 'merian_n540_deep_9813_sky.pkl'))\n",
    "\n",
    "# Primary objects\n",
    "prim_flag = (~sky_flag & n540_coadd['detect_isPrimary'] & (n540_coadd['deblend_nChild'] == 0))\n",
    "prim_flag.sum()\n",
    "\n",
    "n540_coadd[prim_flag].to_pickle(\n",
    "    os.path.join(output_dir, 'coadd', 'n540', 'merian_n540_deep_9813_primary.pkl'))\n",
    "\n",
    "# Full catalog\n",
    "Table.from_pandas(n540_coadd).write(\n",
    "    os.path.join(output_dir, 'coadd', 'n540', 'merian_n540_deep_9813.fits'), format='fits', overwrite=True)"
   ]
  },
  {
   "cell_type": "markdown",
   "id": "structured-yugoslavia",
   "metadata": {},
   "source": [
    "## Merian Coadd Image\n",
    "\n",
    "- Get the coadd image of one `Patch`\n",
    "\n",
    "### `N708`"
   ]
  },
  {
   "cell_type": "code",
   "execution_count": 10,
   "id": "parental-future",
   "metadata": {},
   "outputs": [],
   "source": [
    "# Here I just choose the Patch ID randomly.\n",
    "n708_img_id = {'tract': 9813, 'patch': 22, 'band': 'N708'}\n",
    "\n",
    "n708_img = butler.get(\n",
    "    'deepCoadd', dataId=n708_img_id, instrument='DECam', skymap='hsc_rings_v1', collections=n708_rerun)"
   ]
  },
  {
   "cell_type": "code",
   "execution_count": 11,
   "id": "portuguese-stranger",
   "metadata": {},
   "outputs": [
    {
     "data": {
      "text/plain": [
       "Extent2I(4200, 4200)"
      ]
     },
     "execution_count": 11,
     "metadata": {},
     "output_type": "execute_result"
    }
   ],
   "source": [
    "# Image dimension\n",
    "n708_img.getDimensions()"
   ]
  },
  {
   "cell_type": "code",
   "execution_count": 14,
   "id": "toxic-entertainment",
   "metadata": {},
   "outputs": [],
   "source": [
    "# The flux \n",
    "flux = n708_img.getImage()\n",
    "\n",
    "# The object mask\n",
    "mask = n708_img.getMask()\n",
    "\n",
    "# The variance \n",
    "var = n708_img.getVariance()"
   ]
  },
  {
   "cell_type": "code",
   "execution_count": 16,
   "id": "gorgeous-zambia",
   "metadata": {},
   "outputs": [
    {
     "data": {
      "text/plain": [
       "array([[-0.00072371,  0.0358339 ,  0.02275437, ..., -0.03961521,\n",
       "         0.02224333,  0.04279563],\n",
       "       [ 0.00036555,  0.00098316,  0.0081486 , ..., -0.01154273,\n",
       "        -0.00686834,  0.00898801],\n",
       "       [-0.00409637, -0.03652273, -0.04689546, ...,  0.00605213,\n",
       "        -0.0313235 ,  0.01018497],\n",
       "       ...,\n",
       "       [ 0.01356809,  0.01146072,  0.00304138, ..., -0.06666885,\n",
       "        -0.06624182, -0.0110684 ],\n",
       "       [ 0.01405278,  0.03681416,  0.02339144, ..., -0.02573195,\n",
       "        -0.06419283, -0.00813852],\n",
       "       [-0.00704356,  0.01506443,  0.01219904, ...,  0.0499026 ,\n",
       "         0.04059465,  0.01543511]], dtype=float32)"
      ]
     },
     "execution_count": 16,
     "metadata": {},
     "output_type": "execute_result"
    }
   ],
   "source": [
    "# The flux, mask, var are still special objects\n",
    "# If you need numpy.array, you need to get the array attribution\n",
    "flux.array"
   ]
  },
  {
   "cell_type": "code",
   "execution_count": 15,
   "id": "guilty-trainer",
   "metadata": {},
   "outputs": [
    {
     "data": {
      "text/plain": [
       "FITS standard SkyWcs:\n",
       "Sky Origin: (150.2479338843, +2.2314049587)\n",
       "Pixel Origin: (17999, 17999)\n",
       "Pixel Scale: 0.168 arcsec/pixel"
      ]
     },
     "execution_count": 15,
     "metadata": {},
     "output_type": "execute_result"
    }
   ],
   "source": [
    "# WCS info\n",
    "n708_img.getWcs()"
   ]
  },
  {
   "cell_type": "code",
   "execution_count": 17,
   "id": "democratic-agent",
   "metadata": {},
   "outputs": [
    {
     "data": {
      "text/plain": [
       "PhotoCalib(spatially constant with mean: 57.544 error: 0)"
      ]
     },
     "execution_count": 17,
     "metadata": {},
     "output_type": "execute_result"
    }
   ],
   "source": [
    "n708_img.getPhotoCalib()"
   ]
  },
  {
   "cell_type": "code",
   "execution_count": 20,
   "id": "applicable-marketing",
   "metadata": {},
   "outputs": [],
   "source": [
    "# HDU 1 is the image\n",
    "# HDU 2 is the mask\n",
    "# HDU 3 is the variance\n",
    "\n",
    "n708_img.writeFits(\n",
    "    os.path.join(output_dir, 'coadd', 'n708', 'img', 'merian_n708_deep_9813_22_deepcoadd.fits'))"
   ]
  },
  {
   "cell_type": "markdown",
   "id": "regulated-blogger",
   "metadata": {},
   "source": [
    "### `N540`"
   ]
  },
  {
   "cell_type": "code",
   "execution_count": 23,
   "id": "strange-pharmaceutical",
   "metadata": {},
   "outputs": [],
   "source": [
    "n540_rerun = 'DECam/runs/merian/w_2022_02/t9813_deep_N540'\n",
    "\n",
    "n540_img_id = {'tract': 9813, 'patch': 22, 'band': 'N540'}\n",
    "\n",
    "n540_img = butler.get(\n",
    "    'deepCoadd', dataId=n540_img_id, instrument='DECam', skymap='hsc_rings_v1', collections=n540_rerun)\n",
    "\n",
    "n540_img.writeFits(\n",
    "    os.path.join(output_dir, 'coadd', 'n540', 'img', 'merian_n540_deep_9813_22_deepcoadd.fits'))"
   ]
  },
  {
   "cell_type": "markdown",
   "id": "educational-private",
   "metadata": {},
   "source": [
    "## Merian Single Exposure Catalogs \n",
    "\n",
    "- This is a useful reference: https://pipelines.lsst.io/getting-started/display.html?highlight=calexp\n",
    "\n",
    "### `N708`"
   ]
  },
  {
   "cell_type": "code",
   "execution_count": 24,
   "id": "built-reunion",
   "metadata": {},
   "outputs": [],
   "source": [
    "exp_collection = 'DECam/runs/merian/w_2022_02'"
   ]
  },
  {
   "cell_type": "code",
   "execution_count": 25,
   "id": "forty-jersey",
   "metadata": {},
   "outputs": [],
   "source": [
    "# Based on the observational log to get the exposure ID, the filter, and the observing conditions\n",
    "\n",
    "# Airmass: 1.29\n",
    "# Seeing: 1.01\n",
    "# Sky background: 21.09 mag/arcsec^2\n",
    "# Transparency: 1.0\n",
    "n708_visit = 971900"
   ]
  },
  {
   "cell_type": "code",
   "execution_count": 26,
   "id": "ancient-obligation",
   "metadata": {},
   "outputs": [],
   "source": [
    "n708_src = butler.get(\n",
    "    \"sourceTable_visit\", instrument=\"DECam\", visit=n708_visit, collections=exp_collection)"
   ]
  },
  {
   "cell_type": "code",
   "execution_count": 27,
   "id": "herbal-moderator",
   "metadata": {},
   "outputs": [
    {
     "data": {
      "text/plain": [
       "204698"
      ]
     },
     "execution_count": 27,
     "metadata": {},
     "output_type": "execute_result"
    }
   ],
   "source": [
    "len(n708_src)"
   ]
  },
  {
   "cell_type": "code",
   "execution_count": 28,
   "id": "hired-brain",
   "metadata": {},
   "outputs": [
    {
     "name": "stdout",
     "output_type": "stream",
     "text": [
      "['coord_ra', 'coord_dec', 'ccdVisitId', 'parentSourceId', 'x', 'y', 'xErr', 'yErr', 'ra', 'decl', 'calibFlux', 'calibFluxErr', 'ap03Flux', 'ap03FluxErr', 'ap03Flux_flag', 'ap06Flux', 'ap06FluxErr', 'ap06Flux_flag', 'ap09Flux', 'ap09FluxErr', 'ap09Flux_flag', 'ap12Flux', 'ap12FluxErr', 'ap12Flux_flag', 'ap17Flux', 'ap17FluxErr', 'ap17Flux_flag', 'ap25Flux', 'ap25FluxErr', 'ap25Flux_flag', 'ap35Flux', 'ap35FluxErr', 'ap35Flux_flag', 'ap50Flux', 'ap50FluxErr', 'ap50Flux_flag', 'ap70Flux', 'ap70FluxErr', 'ap70Flux_flag', 'sky', 'skyErr', 'psfFlux', 'psfFluxErr', 'ixx', 'iyy', 'ixy', 'ixxPSF', 'iyyPSF', 'ixyPSF', 'gaussianFlux', 'gaussianFluxErr', 'extendedness', 'localPhotoCalib', 'localPhotoCalib_flag', 'localPhotoCalibErr', 'localWcs_flag', 'localWcs_CDMatrix_2_1', 'localWcs_CDMatrix_1_1', 'localWcs_CDMatrix_1_2', 'localWcs_CDMatrix_2_2', 'blendedness_abs', 'blendedness_flag', 'blendedness_flag_noCentroid', 'blendedness_flag_noShape', 'apFlux_12_0_flag', 'apFlux_12_0_flag_apertureTruncated', 'apFlux_12_0_flag_sincCoeffsTruncated', 'apFlux_12_0_instFlux', 'apFlux_12_0_instFluxErr', 'apFlux_17_0_flag', 'apFlux_17_0_instFlux', 'apFlux_17_0_instFluxErr', 'extendedness_flag', 'footprintArea_value', 'jacobian_flag', 'jacobian_value', 'localBackground_instFlux', 'localBackground_instFluxErr', 'localBackground_flag', 'localBackground_flag_noGoodPixels', 'localBackground_flag_noPsf', 'pixelFlags_bad', 'pixelFlags_cr', 'pixelFlags_crCenter', 'pixelFlags_edge', 'pixelFlags_interpolated', 'pixelFlags_interpolatedCenter', 'pixelFlags_offimage', 'pixelFlags_saturated', 'pixelFlags_saturatedCenter', 'pixelFlags_suspect', 'pixelFlags_suspectCenter', 'psfFlux_apCorr', 'psfFlux_apCorrErr', 'psfFlux_area', 'psfFlux_flag', 'psfFlux_flag_apCorr', 'psfFlux_flag_edge', 'psfFlux_flag_noGoodPixels', 'gaussianFlux_flag', 'centroid_flag', 'centroid_flag_almostNoSecondDerivative', 'centroid_flag_badError', 'centroid_flag_edge', 'centroid_flag_noSecondDerivative', 'centroid_flag_notAtMaximum', 'centroid_flag_resetToPeak', 'variance_flag', 'variance_flag_emptyFootprint', 'variance_value', 'calib_astrometry_used', 'calib_detected', 'calib_photometry_reserved', 'calib_photometry_used', 'calib_psf_candidate', 'calib_psf_reserved', 'calib_psf_used', 'deblend_deblendedAsPsf', 'deblend_hasStrayFlux', 'deblend_masked', 'deblend_nChild', 'deblend_parentTooBig', 'deblend_patchedTemplate', 'deblend_rampedTemplate', 'deblend_skipped', 'deblend_tooManyPeaks', 'hsmPsfMoments_flag', 'hsmPsfMoments_flag_no_pixels', 'hsmPsfMoments_flag_not_contained', 'hsmPsfMoments_flag_parent_source', 'hsmShapeRegauss_flag', 'hsmShapeRegauss_flag_galsim', 'hsmShapeRegauss_flag_no_pixels', 'hsmShapeRegauss_flag_not_contained', 'hsmShapeRegauss_flag_parent_source', 'sky_source', 'detect_isPrimary', 'band', 'instrument', 'detector', 'physical_filter', 'visit_system', 'visit']\n"
     ]
    }
   ],
   "source": [
    "# The single exposure catalog doesn't have the filter name in the column name \n",
    "\n",
    "print(n708_src.columns.values.tolist())"
   ]
  },
  {
   "cell_type": "code",
   "execution_count": 36,
   "id": "saving-adventure",
   "metadata": {},
   "outputs": [
    {
     "data": {
      "text/plain": [
       "array([ 1,  2,  3,  4,  5,  6,  7,  8,  9, 10, 11, 12, 13, 14, 15, 16, 17,\n",
       "       18, 19, 20, 21, 22, 23, 24, 25, 26, 27, 28, 29, 30, 32, 33, 34, 35,\n",
       "       36, 37, 38, 39, 40, 41, 42, 43, 44, 45, 46, 47, 48, 49, 50, 51, 52,\n",
       "       53, 54, 55, 56, 57, 58, 59, 60, 62])"
      ]
     },
     "execution_count": 36,
     "metadata": {},
     "output_type": "execute_result"
    }
   ],
   "source": [
    "# This catalog includes the sources from all CCDs\n",
    "# However, the CCD IDs are not present, you have to get it from the ccdVisitId\n",
    "np.unique(n708_src['ccdVisitId'].array - 97190000)"
   ]
  },
  {
   "cell_type": "code",
   "execution_count": 38,
   "id": "vocal-terminology",
   "metadata": {},
   "outputs": [
    {
     "name": "stdout",
     "output_type": "stream",
     "text": [
      "6000\n",
      "178475\n"
     ]
    }
   ],
   "source": [
    "# Sky objects\n",
    "# Notice the column name is different\n",
    "sky_flag = (n708_src['sky_source'] == True)\n",
    "print(sky_flag.sum())\n",
    "\n",
    "n708_src[sky_flag].to_pickle(\n",
    "    os.path.join(output_dir, 'single', 'n708', 'merian_n708_971900_sky.pkl'))\n",
    "\n",
    "# Primary objects\n",
    "prim_flag = (~sky_flag & n708_src['detect_isPrimary'] & (n708_src['deblend_nChild'] == 0))\n",
    "print(prim_flag.sum())\n",
    "\n",
    "n708_src[prim_flag].to_pickle(\n",
    "    os.path.join(output_dir, 'single', 'n708', 'merian_n708_971900_primary.pkl'))\n",
    "\n",
    "# Full catalog\n",
    "Table.from_pandas(n708_src).write(\n",
    "    os.path.join(output_dir, 'single', 'n708', 'merian_n708_971900_src.fits'), format='fits', overwrite=True)"
   ]
  },
  {
   "cell_type": "code",
   "execution_count": 43,
   "id": "regulation-planet",
   "metadata": {},
   "outputs": [],
   "source": [
    "# If you just need the catalog from a single CCD\n",
    "n708_src_ccd = butler.get(\n",
    "    \"src\", instrument=\"DECam\", visit=n708_visit, detector=22, collections=exp_collection)"
   ]
  },
  {
   "cell_type": "markdown",
   "id": "premier-exclusion",
   "metadata": {},
   "source": [
    "## Merian Single Exposure Image \n",
    "\n",
    "### `N708`"
   ]
  },
  {
   "cell_type": "code",
   "execution_count": 45,
   "id": "photographic-channel",
   "metadata": {},
   "outputs": [],
   "source": [
    "n708_img = butler.get(\n",
    "    \"calexp\", instrument=\"DECam\", visit=n708_visit, detector=22, collections=exp_collection)\n",
    "\n",
    "n708_img.writeFits(\n",
    "    os.path.join(output_dir, 'single', 'n708', 'img', 'merian_n708_971900_22_img.fits'))\n",
    "\n",
    "# Very similar to the coadd image"
   ]
  },
  {
   "cell_type": "code",
   "execution_count": 46,
   "id": "threatened-oasis",
   "metadata": {},
   "outputs": [],
   "source": [
    "# Get the background subtracted\n",
    "\n",
    "n708_bkg = butler.get(\n",
    "    \"calexpBackground\", instrument=\"DECam\", visit=n708_visit, detector=22, collections=exp_collection)"
   ]
  },
  {
   "cell_type": "code",
   "execution_count": 47,
   "id": "material-worst",
   "metadata": {},
   "outputs": [],
   "source": [
    "bkg_img = n708_bkg.getImage()"
   ]
  },
  {
   "cell_type": "code",
   "execution_count": 49,
   "id": "prompt-merit",
   "metadata": {},
   "outputs": [],
   "source": [
    "n708_bkg.writeFits(\n",
    "    os.path.join(output_dir, 'single', 'n708', 'img', 'merian_n708_971900_22_bkg.fits'))"
   ]
  },
  {
   "cell_type": "code",
   "execution_count": null,
   "id": "dated-editing",
   "metadata": {},
   "outputs": [],
   "source": []
  }
 ],
 "metadata": {
  "kernelspec": {
   "display_name": "Python 3 (ipykernel)",
   "language": "python",
   "name": "python3"
  },
  "language_info": {
   "codemirror_mode": {
    "name": "ipython",
    "version": 3
   },
   "file_extension": ".py",
   "mimetype": "text/x-python",
   "name": "python",
   "nbconvert_exporter": "python",
   "pygments_lexer": "ipython3",
   "version": "3.8.12"
  }
 },
 "nbformat": 4,
 "nbformat_minor": 5
}
