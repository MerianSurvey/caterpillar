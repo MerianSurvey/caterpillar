{
 "cells": [
  {
   "cell_type": "code",
   "execution_count": 159,
   "id": "4c53df0a-cd8f-4d86-9dec-8ad29f538ad4",
   "metadata": {},
   "outputs": [
    {
     "name": "stdout",
     "output_type": "stream",
     "text": [
      "The autoreload extension is already loaded. To reload it, use:\n",
      "  %reload_ext autoreload\n"
     ]
    }
   ],
   "source": [
    "%matplotlib inline\n",
    "%load_ext autoreload\n",
    "%autoreload 2\n",
    "\n",
    "import os\n",
    "import copy\n",
    "import pickle\n",
    "import random\n",
    "import warnings\n",
    "\n",
    "import numpy as np\n",
    "\n",
    "from astropy import units as u\n",
    "from astropy.table import Table, Column, vstack\n",
    "\n",
    "import matplotlib.pyplot as plt"
   ]
  },
  {
   "cell_type": "markdown",
   "id": "fa7b49b8-6d78-4a9f-8c8e-54bdc510866e",
   "metadata": {},
   "source": [
    "### Gathering the COSMOS QA sample"
   ]
  },
  {
   "cell_type": "code",
   "execution_count": 17,
   "id": "842a3dfb-7661-494d-afee-571563771670",
   "metadata": {},
   "outputs": [],
   "source": [
    "data_dir = '/Users/song/Dropbox/work/data/merian/qa'\n",
    "\n",
    "cosmos_dir = '/Users/song/work/cosmos2020/COSMOS2020_R1/'"
   ]
  },
  {
   "cell_type": "markdown",
   "id": "d8ff43bc-5115-47b9-8ae4-a89e8c59d735",
   "metadata": {},
   "source": [
    "#### Reference cutout input catalog"
   ]
  },
  {
   "cell_type": "code",
   "execution_count": 8,
   "id": "70718381-9ca3-4431-a830-168e09bb9509",
   "metadata": {},
   "outputs": [],
   "source": [
    "ref_cat = Table.read(os.path.join(data_dir, 'g09_broadcut_cosmos-2022-03-21.fits'))"
   ]
  },
  {
   "cell_type": "code",
   "execution_count": 9,
   "id": "def44c10-810f-4638-89c2-5eb69c9e5fe2",
   "metadata": {},
   "outputs": [
    {
     "data": {
      "text/html": [
       "<i>Row index=0</i>\n",
       "<table id=\"table140281032972512\">\n",
       "<thead><tr><th>name</th><th>prefix</th><th>dir</th><th>chunk</th><th>ra</th><th>dec</th><th>half_size</th></tr></thead>\n",
       "<thead><tr><th></th><th></th><th></th><th></th><th></th><th></th><th>arcsec</th></tr></thead>\n",
       "<thead><tr><th>int64</th><th>bytes30</th><th>bytes61</th><th>int64</th><th>float64</th><th>float64</th><th>float64</th></tr></thead>\n",
       "<tr><td>43153640956908581</td><td>g09_broadcut_43153640956908581</td><td>/projects/MERIAN/poststamps/g09_broadcut/1/43153640956908581</td><td>1</td><td>149.482517432927</td><td>1.7997843568838428</td><td>3.4999708170211936</td></tr>\n",
       "</table>"
      ],
      "text/plain": [
       "<Row index=0>\n",
       "       name                   prefix                                         dir                              chunk        ra               dec             half_size     \n",
       "                                                                                                                                                              arcsec      \n",
       "      int64                  bytes30                                       bytes61                            int64     float64           float64            float64      \n",
       "----------------- ------------------------------ ------------------------------------------------------------ ----- ---------------- ------------------ ------------------\n",
       "43153640956908581 g09_broadcut_43153640956908581 /projects/MERIAN/poststamps/g09_broadcut/1/43153640956908581     1 149.482517432927 1.7997843568838428 3.4999708170211936"
      ]
     },
     "execution_count": 9,
     "metadata": {},
     "output_type": "execute_result"
    }
   ],
   "source": [
    "ref_cat[0]"
   ]
  },
  {
   "cell_type": "markdown",
   "id": "c5fcb7fb-1030-42a1-ae52-a9216b791e26",
   "metadata": {},
   "source": [
    "#### Key sample: Merian targets - Low redshift dwarfs\n",
    "\n",
    "- Just using the `ladybug` sample."
   ]
  },
  {
   "cell_type": "code",
   "execution_count": 163,
   "id": "e54fba53-d22c-4ea1-8ad3-5522152be775",
   "metadata": {},
   "outputs": [],
   "source": [
    "dwarf_cat = Table.read(os.path.join(data_dir, 'ladybug_hsc.fits'))"
   ]
  },
  {
   "cell_type": "code",
   "execution_count": 164,
   "id": "9384cae9-6341-4add-9e1c-92684e87579f",
   "metadata": {},
   "outputs": [],
   "source": [
    "dwarf_new = dwarf_cat['index', 'ra', 'dec', 'z_cosmos'][np.isfinite(dwarf_cat['ra'])]\n",
    "dwarf_new['name'] = [\"ladybug_{:s}\".format(str(i)) for i in dwarf_new['index']]\n",
    "dwarf_new.rename_column('z_cosmos', 'z')\n",
    "dwarf_new.remove_column('index')\n",
    "dwarf_new['prefix'] = [\"merian_qa_{:s}\".format(n) for n in dwarf_new['name']]\n",
    "dwarf_new['chunk'] = np.full(len(dwarf_new), 1)\n",
    "dwarf_new['half_size'] = [10.0 * u.arcsec] * len(dwarf_new)\n",
    "dwarf_new['ra'] = [r * u.deg for r in dwarf_new['ra']]\n",
    "dwarf_new['dec'] = [r * u.deg for r in dwarf_new['dec']]"
   ]
  },
  {
   "cell_type": "code",
   "execution_count": 165,
   "id": "24a10339-d7a6-43eb-97c9-c42b8636cef8",
   "metadata": {},
   "outputs": [],
   "source": [
    "dwarf_sub = dwarf_new[np.unique(random.sample(list(np.linspace(0, len(dwarf_new) - 1, dtype='int')), 50))]"
   ]
  },
  {
   "cell_type": "code",
   "execution_count": 166,
   "id": "11ce2a1f-8aa9-40f3-8e0a-3109cf100dfc",
   "metadata": {},
   "outputs": [
    {
     "name": "stdout",
     "output_type": "stream",
     "text": [
      "ladybug_201  150.59890    2.67431\n",
      "ladybug_207  150.69369    2.67780\n",
      "ladybug_167  149.50354    2.50470\n",
      "ladybug_219  150.36821    2.70883\n",
      "ladybug_89   150.01890    2.14322\n",
      "ladybug_229  150.44217    2.73315\n",
      "ladybug_17   150.21816    1.84682\n",
      "ladybug_199  150.44408    2.65832\n",
      "ladybug_97   149.96707    2.20333\n",
      "ladybug_50   149.81799    2.00999\n",
      "ladybug_49   150.42208    2.00509\n",
      "ladybug_200  150.59221    2.65966\n",
      "ladybug_78   149.89676    2.08596\n",
      "ladybug_102  150.62953    2.23930\n",
      "ladybug_148  149.55791    2.42166\n",
      "ladybug_147  150.06773    2.42447\n",
      "ladybug_15   149.60838    1.84373\n",
      "ladybug_146  150.06704    2.42037\n",
      "ladybug_159  150.39753    2.47117\n",
      "ladybug_233  149.92496    2.74792\n",
      "ladybug_71   149.79650    2.06832\n",
      "ladybug_30   150.38163    1.93203\n",
      "ladybug_42   150.12694    1.98492\n",
      "ladybug_143  149.92566    2.38803\n",
      "ladybug_61   150.03270    2.04152\n",
      "ladybug_116  149.65181    2.29403\n",
      "ladybug_246  150.10670    2.78732\n",
      "ladybug_129  149.80363    2.33660\n",
      "ladybug_54   150.17027    2.02762\n",
      "ladybug_47   150.06044    2.00666\n",
      "ladybug_133  149.77785    2.34052\n",
      "ladybug_187  149.91081    2.61434\n",
      "ladybug_55   149.86148    2.02809\n",
      "ladybug_56   149.84448    2.03075\n",
      "ladybug_144  150.34709    2.40801\n",
      "ladybug_118  150.77179    2.30679\n",
      "ladybug_228  149.65641    2.72943\n",
      "ladybug_221  150.63712    2.71100\n",
      "ladybug_14   150.35306    1.82618\n",
      "ladybug_90   149.52219    2.14262\n",
      "ladybug_111  150.24231    2.27563\n",
      "ladybug_25   150.31698    1.88752\n",
      "ladybug_237  149.96603    2.76339\n",
      "ladybug_137  149.64228    2.36743\n",
      "ladybug_225  150.27969    2.72552\n",
      "ladybug_224  150.62557    2.71438\n",
      "ladybug_142  150.48639    2.38990\n",
      "ladybug_112  149.68482    2.27641\n",
      "ladybug_113  149.52974    2.27840\n",
      "ladybug_114  149.55939    2.28233\n"
     ]
    }
   ],
   "source": [
    "_ = [print(\"{:11s}  {:9.5f}  {:9.5f}\".format(obj['name'], obj['ra'], obj['dec'])) for obj in dwarf_sub]"
   ]
  },
  {
   "cell_type": "markdown",
   "id": "9a2116e1-7f90-449f-a6b7-e65876bf0858",
   "metadata": {},
   "source": [
    "#### z=0.4 massive galaxies"
   ]
  },
  {
   "cell_type": "code",
   "execution_count": 167,
   "id": "1282fcec-fbce-44dd-98b5-8ce5b2ec617f",
   "metadata": {},
   "outputs": [],
   "source": [
    "cos_tab = Table.read(os.path.join(cosmos_dir, 'cosmos2020_farmer_hsc_short.fits'))"
   ]
  },
  {
   "cell_type": "code",
   "execution_count": 168,
   "id": "131a8ece-53e9-4293-bee2-57002ef21255",
   "metadata": {},
   "outputs": [
    {
     "name": "stdout",
     "output_type": "stream",
     "text": [
      "189\n"
     ]
    }
   ],
   "source": [
    "selection = (\n",
    "    (cos_tab['lp_zPDF'] >= 0.40) & (cos_tab['lp_zPDF'] <= 0.45) & \n",
    "    (cos_tab['lp_mass_med'] >= 11.0) & (cos_tab['lp_mass_med'] <= 11.8) &\n",
    "    (cos_tab['SOLUTION_MODEL'] != b'PointSource') &\n",
    "    (~cos_tab['HSC_i_MAG'].mask)\n",
    ")\n",
    "\n",
    "print(selection.sum())\n",
    "\n",
    "cos_massive = cos_tab[selection]['ID', 'ra', 'dec', 'lp_zPDF'][np.unique(random.sample(list(np.linspace(0, len(cos_tab[selection]) - 1, dtype='int')), 20))]\n",
    "cos_massive['name'] = [\"cos20m_{:s}\".format(str(i)) for i in cos_massive['ID']]\n",
    "cos_massive.rename_column('lp_zPDF', 'z')\n",
    "cos_massive.remove_column('ID')\n",
    "cos_massive['prefix'] = [\"merian_qa_{:s}\".format(n) for n in cos_massive['name']]\n",
    "cos_massive['chunk'] = np.full(len(cos_massive), 2)\n",
    "cos_massive['half_size'] = [12.0 * u.arcsec] * len(cos_massive)\n",
    "cos_massive['ra'] = [r * u.deg for r in cos_massive['ra']]\n",
    "cos_massive['dec'] = [r * u.deg for r in cos_massive['dec']]"
   ]
  },
  {
   "cell_type": "code",
   "execution_count": 169,
   "id": "542fe0cb-d547-4145-90eb-ae648eb1ab5c",
   "metadata": {},
   "outputs": [
    {
     "name": "stdout",
     "output_type": "stream",
     "text": [
      "cos20m_22382  150.78264    2.04482\n",
      "cos20m_87451  149.59568    1.54670\n",
      "cos20m_101352  149.85681    2.29321\n",
      "cos20m_191381  149.30678    2.64863\n",
      "cos20m_216863  149.77611    2.14060\n",
      "cos20m_302996  150.21909    2.05899\n",
      "cos20m_367401  149.52547    1.81734\n",
      "cos20m_384406  149.84340    2.14760\n",
      "cos20m_431377  149.47430    2.66517\n",
      "cos20m_502870  150.47400    2.56677\n",
      "cos20m_506865  149.99692    2.49620\n",
      "cos20m_525740  150.28220    1.58055\n",
      "cos20m_553174  149.85845    2.59191\n",
      "cos20m_567195  150.37773    2.41224\n",
      "cos20m_726922  149.95640    1.78785\n",
      "cos20m_805966  150.06947    2.70363\n",
      "cos20m_832804  149.54468    1.94527\n",
      "cos20m_854214  149.35099    1.95578\n",
      "cos20m_937609  150.68245    2.87598\n",
      "cos20m_964093  150.38681    2.86065\n"
     ]
    }
   ],
   "source": [
    "_ = [print(\"{:s}  {:9.5f}  {:9.5f}\".format(obj['name'], obj['ra'], obj['dec'])) for obj in cos_massive]"
   ]
  },
  {
   "cell_type": "markdown",
   "id": "f7a2931e-48ca-4ef5-a1c5-148e392ca7ef",
   "metadata": {},
   "source": [
    "#### z=0.4 star-forming galaxies"
   ]
  },
  {
   "cell_type": "code",
   "execution_count": 170,
   "id": "3d38da15-6122-4605-8932-f8e6c377a19c",
   "metadata": {},
   "outputs": [
    {
     "name": "stdout",
     "output_type": "stream",
     "text": [
      "14\n"
     ]
    }
   ],
   "source": [
    "selection = (\n",
    "    (cos_tab['lp_zPDF'] >= 0.40) & (cos_tab['lp_zPDF'] <= 0.42) & \n",
    "    (cos_tab['lp_mass_med'] >= 10.4) & (cos_tab['lp_mass_med'] <= 11.0) &\n",
    "    (cos_tab['SOLUTION_MODEL'] != b'PointSource') &\n",
    "    (~cos_tab['HSC_i_MAG'].mask) &\n",
    "    (cos_tab['lp_sSFR_med'] >= -9.8)\n",
    ")\n",
    "\n",
    "print(selection.sum())\n",
    "\n",
    "cos_sf = cos_tab[selection]['ID', 'ra', 'dec', 'lp_zPDF']\n",
    "cos_sf['name'] = [\"cos20s_{:s}\".format(str(i)) for i in cos_sf['ID']]\n",
    "cos_sf.rename_column('lp_zPDF', 'z')\n",
    "cos_sf.remove_column('ID')\n",
    "cos_sf['prefix'] = [\"merian_qa_{:s}\".format(n) for n in cos_sf['name']]\n",
    "cos_sf['chunk'] = np.full(len(cos_sf), 3)\n",
    "cos_sf['half_size'] = [12.0 * u.arcsec] * len(cos_sf)\n",
    "cos_sf['ra'] = [r * u.deg for r in cos_sf['ra']]\n",
    "cos_sf['dec'] = [r * u.deg for r in cos_sf['dec']]"
   ]
  },
  {
   "cell_type": "code",
   "execution_count": 171,
   "id": "cef7aca7-3d86-47b2-88d3-988a48af1552",
   "metadata": {},
   "outputs": [
    {
     "name": "stdout",
     "output_type": "stream",
     "text": [
      "cos20s_112607  150.71982    1.96539\n",
      "cos20s_172077  149.32428    1.56284\n",
      "cos20s_183011  150.64267    2.80175\n",
      "cos20s_248630  149.33251    2.81992\n",
      "cos20s_254486  149.91868    2.47723\n",
      "cos20s_300506  150.46214    2.06322\n",
      "cos20s_360480  149.65309    1.66436\n",
      "cos20s_390609  150.22851    2.52392\n",
      "cos20s_436814  150.77965    2.09753\n",
      "cos20s_597093  149.85381    2.24566\n",
      "cos20s_689919  149.73084    2.34368\n",
      "cos20s_837716  150.01288    2.85205\n",
      "cos20s_855161  150.32796    2.11899\n",
      "cos20s_914463  150.41554    2.77689\n"
     ]
    }
   ],
   "source": [
    "_ = [print(\"{:s}  {:9.5f}  {:9.5f}\".format(obj['name'], obj['ra'], obj['dec'])) for obj in cos_sf]"
   ]
  },
  {
   "cell_type": "markdown",
   "id": "244b340d-e97f-46ee-b9a7-32e4ef722567",
   "metadata": {},
   "source": [
    "#### Low-z SF galaxies"
   ]
  },
  {
   "cell_type": "code",
   "execution_count": 172,
   "id": "e91c84d5-1c27-4a50-bef4-5de3d6791069",
   "metadata": {},
   "outputs": [
    {
     "name": "stdout",
     "output_type": "stream",
     "text": [
      "22\n",
      "cos20l_26603  149.29809    2.54458\n",
      "cos20l_86655  149.71681    2.47782\n",
      "cos20l_97320  149.61410    2.29873\n",
      "cos20l_197293  150.58901    2.13695\n",
      "cos20l_212576  150.48801    2.05326\n",
      "cos20l_316247  149.42215    2.56843\n",
      "cos20l_333542  149.23653    1.98479\n",
      "cos20l_339733  149.62324    2.32156\n",
      "cos20l_387135  149.76919    2.82353\n",
      "cos20l_391890  149.41851    2.07138\n",
      "cos20l_399866  149.94515    2.82042\n",
      "cos20l_407572  149.78743    2.67219\n",
      "cos20l_469216  149.97716    2.00485\n",
      "cos20l_471731  149.70700    2.15898\n",
      "cos20l_559872  150.37942    2.48939\n",
      "cos20l_579080  149.37761    2.44471\n",
      "cos20l_728535  150.13885    2.52316\n",
      "cos20l_752726  149.71828    2.85676\n",
      "cos20l_834597  149.92841    2.59209\n",
      "cos20l_849157  150.40551    1.61906\n",
      "cos20l_928084  150.68130    2.20619\n",
      "cos20l_964460  150.08213    2.87683\n"
     ]
    }
   ],
   "source": [
    "selection = (\n",
    "    (cos_tab['lp_zPDF'] >= 0.05) & (cos_tab['lp_zPDF'] <= 0.12) & \n",
    "    (cos_tab['lp_mass_med'] >= 10.0) & (cos_tab['lp_mass_med'] <= 10.5) &\n",
    "    (cos_tab['SOLUTION_MODEL'] != b'PointSource') &\n",
    "    (~cos_tab['HSC_i_MAG'].mask) & \n",
    "    (~cos_tab['HSC_g_MAG'].mask) &\n",
    "    (~cos_tab['HSC_r_MAG'].mask) &\n",
    "    (~cos_tab['HSC_z_MAG'].mask) &\n",
    "    (cos_tab['lp_sSFR_med'] >= -11.8)\n",
    ")\n",
    "\n",
    "print(selection.sum())\n",
    "\n",
    "cos_lowz = cos_tab[selection]['ID', 'ra', 'dec', 'lp_zPDF']\n",
    "cos_lowz['name'] = [\"cos20l_{:s}\".format(str(i)) for i in cos_lowz['ID']]\n",
    "cos_lowz.rename_column('lp_zPDF', 'z')\n",
    "cos_lowz.remove_column('ID')\n",
    "cos_lowz['prefix'] = [\"merian_qa_{:s}\".format(n) for n in cos_lowz['name']]\n",
    "cos_lowz['chunk'] = np.full(len(cos_lowz), 4)\n",
    "cos_lowz['half_size'] = [20.0 * u.arcsec] * len(cos_lowz)\n",
    "cos_lowz['ra'] = [r * u.deg for r in cos_lowz['ra']]\n",
    "cos_lowz['dec'] = [r * u.deg for r in cos_lowz['dec']]\n",
    "\n",
    "_ = [print(\"{:s}  {:9.5f}  {:9.5f}\".format(obj['name'], obj['ra'], obj['dec'])) for obj in cos_lowz]"
   ]
  },
  {
   "cell_type": "code",
   "execution_count": 173,
   "id": "df332532-d867-4d00-81f3-0b0d61289029",
   "metadata": {},
   "outputs": [],
   "source": [
    "index_use = [1, 8, 12, 18, 20]\n",
    "\n",
    "cos_lowz = cos_lowz[index_use]"
   ]
  },
  {
   "cell_type": "code",
   "execution_count": 174,
   "id": "b0403825-5f1f-4b9e-ad50-dcb6f3761621",
   "metadata": {},
   "outputs": [
    {
     "name": "stdout",
     "output_type": "stream",
     "text": [
      "cos20l_86655  149.71681    2.47782\n",
      "cos20l_387135  149.76919    2.82353\n",
      "cos20l_469216  149.97716    2.00485\n",
      "cos20l_834597  149.92841    2.59209\n",
      "cos20l_928084  150.68130    2.20619\n"
     ]
    }
   ],
   "source": [
    "_ = [print(\"{:s}  {:9.5f}  {:9.5f}\".format(obj['name'], obj['ra'], obj['dec'])) for obj in cos_lowz]"
   ]
  },
  {
   "cell_type": "markdown",
   "id": "9917fe4f-4794-43d1-b15f-67fa2b704804",
   "metadata": {},
   "source": [
    "#### Bright Stars"
   ]
  },
  {
   "cell_type": "code",
   "execution_count": 175,
   "id": "657c8cf9-b1dd-4863-9944-93aa40a1e4f2",
   "metadata": {},
   "outputs": [],
   "source": [
    "ps1_tab = Table.read(os.path.join(data_dir, 'cosmos_ps1_refcat.fits'))"
   ]
  },
  {
   "cell_type": "code",
   "execution_count": 176,
   "id": "7bf9898c-e313-4b15-b5aa-213407219793",
   "metadata": {},
   "outputs": [
    {
     "name": "stdout",
     "output_type": "stream",
     "text": [
      "215\n",
      "ps1_3921720481765406300  150.86029    2.03471\n",
      "ps1_3939682103717201378  151.19408    2.58117\n",
      "ps1_4011757289941519439  150.16748    2.98027\n",
      "ps1_4029754096264348796  150.32932    3.33935\n",
      "ps1_3831666081404417370  151.49728    0.99505\n",
      "ps1_3903794044186137847  150.06874    1.05334\n",
      "ps1_3939858025577208529  149.50625    1.09571\n",
      "ps1_3975834046038042355  149.45330    1.78451\n",
      "ps1_3993918813291715632  148.72393    1.40335\n",
      "ps1_4029894833755034027  148.97017    2.10587\n",
      "ps1_4047856455703869211  149.21851    2.60695\n",
      "ps1_4065853262027313982  149.25266    2.98728\n",
      "ps1_4083850068350751573  149.12964    3.24068\n",
      "ps1_4101864466860233459  149.06548    3.29661\n",
      "ps1_3957661317854604031  151.32683    2.85437\n"
     ]
    }
   ],
   "source": [
    "selection = (\n",
    "    (np.array(ps1_tab['MEDIAN'])[:, 4] <= 13.5) & \n",
    "    (np.array(ps1_tab['MEDIAN'])[:, 4] >= 11.0)\n",
    ")\n",
    "\n",
    "print(selection.sum())\n",
    "\n",
    "ps1_use = ps1_tab[selection]['OBJ_ID', 'RA', 'DEC']\n",
    "\n",
    "ps1_use['name'] = [\"ps1_{:s}\".format(str(i)) for i in ps1_use['OBJ_ID']]\n",
    "ps1_use.rename_column('RA', 'ra')\n",
    "ps1_use.rename_column('DEC', 'dec')\n",
    "ps1_use.remove_column('OBJ_ID')\n",
    "ps1_use['prefix'] = [\"merian_qa_{:s}\".format(n) for n in ps1_use['name']]\n",
    "ps1_use['chunk'] = np.full(len(ps1_use), 5)\n",
    "ps1_use['z'] = np.full(len(ps1_use), 0)\n",
    "ps1_use['half_size'] = [25.0 * u.arcsec] * len(ps1_use)\n",
    "ps1_use['ra'] = [r * u.deg for r in ps1_use['ra']]\n",
    "ps1_use['dec'] = [r * u.deg for r in ps1_use['dec']]\n",
    "\n",
    "ps1_use = ps1_use[np.unique(random.sample(list(np.linspace(0, len(ps1_use) - 1, dtype='int')), 15))]\n",
    "\n",
    "_ = [print(\"{:s}  {:9.5f}  {:9.5f}\".format(obj['name'], obj['ra'], obj['dec'])) for obj in ps1_use]"
   ]
  },
  {
   "cell_type": "markdown",
   "id": "e378ad0a-70a6-453d-85d0-270b24954f30",
   "metadata": {},
   "source": [
    "#### High-redshift Lyman alpha nebulae from Mingyu Li"
   ]
  },
  {
   "cell_type": "code",
   "execution_count": 3,
   "id": "90132b8e-d7c4-424c-b563-8466b0517efb",
   "metadata": {},
   "outputs": [],
   "source": [
    "lya_cat = Table.read(os.path.join(data_dir, 'cosmos_highz_lya_nabulae.csv'))"
   ]
  },
  {
   "cell_type": "code",
   "execution_count": 4,
   "id": "305196d4-0a05-4cbc-a1b6-041d98c7a467",
   "metadata": {},
   "outputs": [
    {
     "data": {
      "text/html": [
       "<div><i>Table length=4</i>\n",
       "<table id=\"table140281032874112\" class=\"table-striped table-bordered table-condensed\">\n",
       "<thead><tr><th>Name</th><th>RA</th><th>DEC</th><th>LyaWave</th><th>z</th></tr></thead>\n",
       "<thead><tr><th>str6</th><th>str13</th><th>str14</th><th>str7</th><th>str6</th></tr></thead>\n",
       "<tr><td>z33-0</td><td>10:01:27.4792</td><td>+02:08:35.8271</td><td>5270?</td><td>3.3?</td></tr>\n",
       "<tr><td>HPS168</td><td>10:00:09.69</td><td>+02:14:54.9</td><td>5409.27</td><td>3.4496</td></tr>\n",
       "<tr><td>z49-0</td><td>10:00:38.3805</td><td>+02:11:27.6213</td><td>7150?</td><td>4.9?</td></tr>\n",
       "<tr><td>z49-1</td><td>10:01:45.99</td><td>+2:02:43.86</td><td>7152</td><td>4.888</td></tr>\n",
       "</table></div>"
      ],
      "text/plain": [
       "<Table length=4>\n",
       " Name        RA           DEC       LyaWave   z   \n",
       " str6      str13         str14        str7   str6 \n",
       "------ ------------- -------------- ------- ------\n",
       " z33-0 10:01:27.4792 +02:08:35.8271   5270?   3.3?\n",
       "HPS168   10:00:09.69    +02:14:54.9 5409.27 3.4496\n",
       " z49-0 10:00:38.3805 +02:11:27.6213   7150?   4.9?\n",
       " z49-1   10:01:45.99    +2:02:43.86    7152  4.888"
      ]
     },
     "execution_count": 4,
     "metadata": {},
     "output_type": "execute_result"
    }
   ],
   "source": [
    "lya_cat"
   ]
  },
  {
   "cell_type": "code",
   "execution_count": 153,
   "id": "5e06e26b-20ce-428f-8718-3f104066b350",
   "metadata": {},
   "outputs": [],
   "source": [
    "obj_1 = {\n",
    "    'name': 'lya_z330', 'ra': 150.3644967 * u.deg, 'dec': 2.1432853 * u.deg, 'z': 3.3, 'half_size': 5.0 * u.arcsec,\n",
    "    'prefix': 'merian_qa_lya_z330', 'chunk': 6\n",
    "}\n",
    "\n",
    "obj_2 = {\n",
    "    'name': 'lya_s168', 'ra': 150.0403750 * u.deg, 'dec': 2.2485833 * u.deg, 'z': 3.4, 'half_size': 5.0 * u.arcsec,\n",
    "    'prefix': 'merian_qa_lya_s168', 'chunk': 6\n",
    "}\n",
    "\n",
    "obj_3 = {\n",
    "    'name': 'lya_z490', 'ra': 150.1599188 * u.deg, 'dec': 2.1910059 * u.deg, 'z': 4.9, 'half_size': 5.0 * u.arcsec,\n",
    "    'prefix': 'merian_qa_lya_z490', 'chunk': 6\n",
    "}\n",
    "\n",
    "obj_4 = {\n",
    "    'name': 'lya_z491', 'ra': 150.4416250 * u.deg, 'dec': 2.0455167 * u.deg, 'z': 4.9, 'half_size': 5.0 * u.arcsec,\n",
    "    'prefix': 'merian_qa_lya_z491', 'chunk': 6\n",
    "}\n",
    "\n",
    "lya_tab = Table([obj_1, obj_2, obj_3, obj_4])"
   ]
  },
  {
   "cell_type": "code",
   "execution_count": 154,
   "id": "d6e11d8b-ef12-4e08-9667-dfa1d6aa321c",
   "metadata": {},
   "outputs": [
    {
     "name": "stdout",
     "output_type": "stream",
     "text": [
      "lya_z330  150.3645    2.1433\n",
      "lya_s168  150.0404    2.2486\n",
      "lya_z490  150.1599    2.1910\n",
      "lya_z491  150.4416    2.0455\n"
     ]
    }
   ],
   "source": [
    "_ = [print(\"{:s}  {:8.4f}  {:8.4f}\".format(obj['name'], obj['ra'], obj['dec'])) for obj in lya_tab]"
   ]
  },
  {
   "cell_type": "code",
   "execution_count": 155,
   "id": "7f782a6e-f04e-46b4-b1b0-073146935e0e",
   "metadata": {},
   "outputs": [
    {
     "data": {
      "text/html": [
       "<div><i>Table length=4</i>\n",
       "<table id=\"table140280662196128\" class=\"table-striped table-bordered table-condensed\">\n",
       "<thead><tr><th>name</th><th>ra</th><th>dec</th><th>z</th><th>half_size</th><th>prefix</th><th>chunk</th></tr></thead>\n",
       "<thead><tr><th></th><th>deg</th><th>deg</th><th></th><th>arcsec</th><th></th><th></th></tr></thead>\n",
       "<thead><tr><th>str8</th><th>float64</th><th>float64</th><th>float64</th><th>float64</th><th>str18</th><th>int64</th></tr></thead>\n",
       "<tr><td>lya_z330</td><td>150.3644967</td><td>2.1432853</td><td>3.3</td><td>5.0</td><td>merian_qa_lya_z330</td><td>6</td></tr>\n",
       "<tr><td>lya_s168</td><td>150.040375</td><td>2.2485833</td><td>3.4</td><td>5.0</td><td>merian_qa_lya_s168</td><td>6</td></tr>\n",
       "<tr><td>lya_z490</td><td>150.1599188</td><td>2.1910059</td><td>4.9</td><td>5.0</td><td>merian_qa_lya_z490</td><td>6</td></tr>\n",
       "<tr><td>lya_z491</td><td>150.441625</td><td>2.0455167</td><td>4.9</td><td>5.0</td><td>merian_qa_lya_z491</td><td>6</td></tr>\n",
       "</table></div>"
      ],
      "text/plain": [
       "<Table length=4>\n",
       "  name        ra        dec       z    half_size       prefix       chunk\n",
       "             deg        deg              arcsec                          \n",
       "  str8     float64    float64  float64  float64        str18        int64\n",
       "-------- ----------- --------- ------- --------- ------------------ -----\n",
       "lya_z330 150.3644967 2.1432853     3.3       5.0 merian_qa_lya_z330     6\n",
       "lya_s168  150.040375 2.2485833     3.4       5.0 merian_qa_lya_s168     6\n",
       "lya_z490 150.1599188 2.1910059     4.9       5.0 merian_qa_lya_z490     6\n",
       "lya_z491  150.441625 2.0455167     4.9       5.0 merian_qa_lya_z491     6"
      ]
     },
     "execution_count": 155,
     "metadata": {},
     "output_type": "execute_result"
    }
   ],
   "source": [
    "lya_tab"
   ]
  },
  {
   "cell_type": "code",
   "execution_count": null,
   "id": "2f2ae49c-1559-4270-83e1-f9cfe33afed1",
   "metadata": {},
   "outputs": [],
   "source": []
  },
  {
   "cell_type": "code",
   "execution_count": null,
   "id": "c5fa7db0-97ea-4308-abd0-31b0d89b8160",
   "metadata": {},
   "outputs": [],
   "source": []
  },
  {
   "cell_type": "code",
   "execution_count": null,
   "id": "2711589d-78de-49fe-92b0-0fb65a5d7c7a",
   "metadata": {},
   "outputs": [],
   "source": []
  },
  {
   "cell_type": "code",
   "execution_count": 177,
   "id": "186b2d6b-6352-4599-8472-49260e91ae14",
   "metadata": {},
   "outputs": [],
   "source": [
    "merian_qa_sample = vstack([dwarf_sub, cos_massive, cos_sf, cos_lowz, ps1_use, lya_tab])"
   ]
  },
  {
   "cell_type": "code",
   "execution_count": 179,
   "id": "1b114b5a-f184-4b3e-a565-6b0751d8f566",
   "metadata": {},
   "outputs": [],
   "source": [
    "merian_qa_sample.write(os.path.join(data_dir, 'merian_qa_20220419.fits'), overwrite=True)"
   ]
  },
  {
   "cell_type": "code",
   "execution_count": null,
   "id": "af5a38b3-daf2-4e89-ac20-be16822f9436",
   "metadata": {},
   "outputs": [],
   "source": []
  }
 ],
 "metadata": {
  "kernelspec": {
   "display_name": "Python 3 (ipykernel)",
   "language": "python",
   "name": "python3"
  },
  "language_info": {
   "codemirror_mode": {
    "name": "ipython",
    "version": 3
   },
   "file_extension": ".py",
   "mimetype": "text/x-python",
   "name": "python",
   "nbconvert_exporter": "python",
   "pygments_lexer": "ipython3",
   "version": "3.8.8"
  }
 },
 "nbformat": 4,
 "nbformat_minor": 5
}
