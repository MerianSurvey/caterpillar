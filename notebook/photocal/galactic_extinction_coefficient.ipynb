{
 "cells": [
  {
   "cell_type": "code",
   "execution_count": 1,
   "metadata": {},
   "outputs": [],
   "source": [
    "%matplotlib inline\n",
    "%load_ext autoreload\n",
    "%autoreload 2\n",
    "\n",
    "import os\n",
    "import copy\n",
    "import warnings\n",
    "\n",
    "import scipy\n",
    "import scipy.integrate as integrate\n",
    "\n",
    "import numpy as np \n",
    "\n",
    "from astropy.io import fits\n",
    "from astropy.wcs import WCS\n",
    "from astropy.table import Table, Column, vstack\n",
    "\n",
    "import matplotlib.pyplot as plt"
   ]
  },
  {
   "cell_type": "code",
   "execution_count": 2,
   "metadata": {},
   "outputs": [],
   "source": [
    "import sedpy\n",
    "import extinction"
   ]
  },
  {
   "cell_type": "code",
   "execution_count": 3,
   "metadata": {},
   "outputs": [],
   "source": [
    "from sedpy import observate\n",
    "from sedpy import reference_spectra"
   ]
  },
  {
   "cell_type": "code",
   "execution_count": 4,
   "metadata": {},
   "outputs": [],
   "source": [
    "from caterpillar import extinction as catext"
   ]
  },
  {
   "cell_type": "markdown",
   "metadata": {},
   "source": [
    "#### HSC Calibration"
   ]
  },
  {
   "cell_type": "code",
   "execution_count": 5,
   "metadata": {},
   "outputs": [],
   "source": [
    "hsc_rb = [3.240, 2.276, 1.633, 1.263, 1.075]\n",
    "hsc_filters = ['hsc_g', 'hsc_r', 'hsc_i', 'hsc_z', 'hsc_y']\n",
    "hsc_dir = '/Users/song/Dropbox/work/project/caterpillar/data/filters/hsc/'"
   ]
  },
  {
   "cell_type": "markdown",
   "metadata": {},
   "source": [
    "#### DECam Calibration"
   ]
  },
  {
   "cell_type": "code",
   "execution_count": 6,
   "metadata": {},
   "outputs": [],
   "source": [
    "decam_rb = [3.994, 3.212, 2.164, 1.591, 1.211, 1.063]\n",
    "decam_filters = ['decam_u', 'decam_g', 'decam_r', 'decam_i', 'decam_z', 'decam_y']"
   ]
  },
  {
   "cell_type": "markdown",
   "metadata": {},
   "source": [
    "#### SDSS Calibration"
   ]
  },
  {
   "cell_type": "code",
   "execution_count": 7,
   "metadata": {},
   "outputs": [],
   "source": [
    "sdss_rb = [4.239, 3.303, 2.285, 1.698, 1.263]\n",
    "sdss_filters = ['sdss_u0', 'sdss_g0', 'sdss_r0', 'sdss_i0', 'sdss_z0']"
   ]
  },
  {
   "cell_type": "markdown",
   "metadata": {},
   "source": [
    "#### Reference spectra of synthetic stars\n",
    "\n",
    "- Following Schlafly & Finkbeiner (2011):\n",
    "    - \"For the source spectrum, we use for S(λ) a synthetic spectrum from [Munari et al. (2005)](https://www.aanda.org/articles/aa/pdf/2005/42/aa2490-04.pdf), with Teff = 7000 K, logZ = −1, and log g = 4.5.\""
   ]
  },
  {
   "cell_type": "code",
   "execution_count": 8,
   "metadata": {},
   "outputs": [],
   "source": [
    "star_ref = Table.read('../../data/stellar/munari2005_t7000_g45_m10.txt', format='ascii')\n",
    "star_wave, star_flux = star_ref['col1'], star_ref['col2']\n",
    "\n",
    "star = {'wave': star_wave, 'flux': star_flux}"
   ]
  },
  {
   "cell_type": "markdown",
   "metadata": {},
   "source": [
    "#### Reference Solar spectrum"
   ]
  },
  {
   "cell_type": "code",
   "execution_count": 9,
   "metadata": {},
   "outputs": [],
   "source": [
    "solar = reference_spectra.solar\n",
    "solar_wave, solar_flux = solar[:, 0], solar[:, 1]\n",
    "\n",
    "flag = (solar_wave >= 2500.) & (solar_wave <= 15000)\n",
    "solar_wave, solar_flux = solar_wave[flag], solar_flux[flag]\n",
    "\n",
    "solar = {'wave': solar_wave, 'flux': solar_flux}"
   ]
  },
  {
   "cell_type": "code",
   "execution_count": 10,
   "metadata": {},
   "outputs": [
    {
     "data": {
      "text/plain": [
       "[<matplotlib.lines.Line2D at 0x12cf618b0>]"
      ]
     },
     "execution_count": 10,
     "metadata": {},
     "output_type": "execute_result"
    },
    {
     "data": {
      "image/png": "[encoded data removed]",
      "text/plain": [
       "<Figure size 432x288 with 1 Axes>"
      ]
     },
     "metadata": {
      "needs_background": "light"
     },
     "output_type": "display_data"
    }
   ],
   "source": [
    "plt.plot(star_wave, np.log10(star_flux))\n",
    "plt.plot(solar_wave, np.log10(solar_flux) + 17)"
   ]
  },
  {
   "cell_type": "markdown",
   "metadata": {},
   "source": [
    "### Calibration\n",
    "\n",
    "- $\\Delta m_{b}=-2.5 \\log \\left[\\frac{\\int d \\lambda W_{b}(\\lambda) S(\\lambda) 10^{-A(\\lambda) \\Delta m_{1 \\mu \\mathrm{m}} / 2.5}}{\\int d \\lambda W_{b}(\\lambda) S(\\lambda)}\\right]$\n",
    "\n",
    "- extinction = E(B-V) x Coefficient.\n",
    "\n",
    "- https://github.com/schlafly/dust/blob/master/python/dust.py\n",
    "- https://github.com/schlafly/specfilt"
   ]
  },
  {
   "cell_type": "code",
   "execution_count": 11,
   "metadata": {},
   "outputs": [
    {
     "name": "stdout",
     "output_type": "stream",
     "text": [
      "4.258 4.239 0.447%\n",
      "3.306 3.303 0.096%\n",
      "2.294 2.285 0.373%\n",
      "1.704 1.698 0.355%\n",
      "1.270 1.263 0.522%\n"
     ]
    },
    {
     "name": "stderr",
     "output_type": "stream",
     "text": [
      "/Users/song/Dropbox/work/project/caterpillar/caterpillar/extinction.py:28: UserWarning: # Reference spectrum does not cover the filter!\n",
      "  warnings.warn(\"# Reference spectrum does not cover the filter!\")\n"
     ]
    }
   ],
   "source": [
    "for r, f in zip(sdss_rb, sdss_filters):\n",
    "    r_f = catext.get_extinction_coefficient(f, star, A_V=1.0, R_V=3.1) \n",
    "    print(\"{:5.3f} {:5.3f} {:5.3f}%\".format(r_f, r, ((r_f - r) / r) * 100.0))"
   ]
  },
  {
   "cell_type": "code",
   "execution_count": 12,
   "metadata": {},
   "outputs": [
    {
     "name": "stdout",
     "output_type": "stream",
     "text": [
      "4.038 3.994 1.105%\n",
      "3.218 3.212 0.191%\n",
      "2.170 2.164 0.280%\n",
      "1.593 1.591 0.099%\n",
      "1.211 1.211 -0.020%\n",
      "1.060 1.063 -0.310%\n"
     ]
    }
   ],
   "source": [
    "for r, f in zip(decam_rb, decam_filters):\n",
    "    r_f = catext.get_extinction_coefficient(f, star, A_V=1.0, R_V=3.1) \n",
    "    print(\"{:5.3f} {:5.3f} {:5.3f}%\".format(r_f, r, ((r_f - r) / r) * 100.0))"
   ]
  },
  {
   "cell_type": "code",
   "execution_count": 13,
   "metadata": {},
   "outputs": [
    {
     "name": "stdout",
     "output_type": "stream",
     "text": [
      "3.234 3.240 -0.195%\n",
      "2.277 2.276 0.031%\n",
      "1.637 1.633 0.247%\n",
      "1.268 1.263 0.424%\n",
      "1.084 1.075 0.842%\n"
     ]
    }
   ],
   "source": [
    "for r, f in zip(hsc_rb, hsc_filters):\n",
    "    r_f = catext.get_extinction_coefficient(f, star, A_V=1.0, R_V=3.1, filter_dir=hsc_dir) \n",
    "    print(\"{:5.3f} {:5.3f} {:5.3f}%\".format(r_f, r, ((r_f - r) / r) * 100.0))"
   ]
  },
  {
   "cell_type": "markdown",
   "metadata": {},
   "source": [
    "### For Merian filter\n",
    "\n",
    "#### N708 filter"
   ]
  },
  {
   "cell_type": "code",
   "execution_count": 19,
   "metadata": {},
   "outputs": [],
   "source": [
    "merian_filters = ['merian_n708_avg', 'merian_n708_med']\n",
    "merian_dir = '/Users/song/Dropbox/work/project/caterpillar/data/filters/merian/'"
   ]
  },
  {
   "cell_type": "code",
   "execution_count": 20,
   "metadata": {},
   "outputs": [
    {
     "name": "stdout",
     "output_type": "stream",
     "text": [
      "1.8472855726474002\n",
      "1.847156535768398\n",
      "1.8481197197521055\n",
      "1.8479742080681112\n"
     ]
    }
   ],
   "source": [
    "for f in merian_filters:\n",
    "    print(catext.get_extinction_coefficient(f, star, A_V=1.0, R_V=3.1, filter_dir=merian_dir))\n",
    "    print(catext.get_extinction_coefficient(f, solar, A_V=1.0, R_V=3.1, filter_dir=merian_dir))"
   ]
  },
  {
   "cell_type": "code",
   "execution_count": 23,
   "metadata": {},
   "outputs": [],
   "source": [
    "merian_n708 = [\"merian_n708_{:d}\".format(ii + 1) for ii in np.arange(49)]"
   ]
  },
  {
   "cell_type": "code",
   "execution_count": 25,
   "metadata": {},
   "outputs": [
    {
     "data": {
      "text/plain": [
       "0.0024207455121428197"
      ]
     },
     "execution_count": 25,
     "metadata": {},
     "output_type": "execute_result"
    }
   ],
   "source": [
    "np.nanstd([\n",
    "    catext.get_extinction_coefficient(f, star, A_V=1.0, R_V=3.1, filter_dir=os.path.join(merian_dir, 'n708')) \n",
    "    for f in merian_n708])"
   ]
  },
  {
   "cell_type": "markdown",
   "metadata": {},
   "source": [
    "#### N540 filter"
   ]
  },
  {
   "cell_type": "code",
   "execution_count": 14,
   "metadata": {},
   "outputs": [],
   "source": [
    "merian_filters = ['merian_n540_avg', 'merian_n540_med']\n",
    "merian_dir = '/Users/song/Dropbox/work/project/caterpillar/data/filters/merian/'"
   ]
  },
  {
   "cell_type": "code",
   "execution_count": 15,
   "metadata": {},
   "outputs": [
    {
     "name": "stdout",
     "output_type": "stream",
     "text": [
      "2.7538322752021656\n",
      "2.753078718147269\n",
      "2.7533775737094617\n",
      "2.7526143735877726\n"
     ]
    }
   ],
   "source": [
    "for f in merian_filters:\n",
    "    print(catext.get_extinction_coefficient(f, star, A_V=1.0, R_V=3.1, filter_dir=merian_dir))\n",
    "    print(catext.get_extinction_coefficient(f, solar, A_V=1.0, R_V=3.1, filter_dir=merian_dir))"
   ]
  },
  {
   "cell_type": "code",
   "execution_count": 16,
   "metadata": {},
   "outputs": [],
   "source": [
    "merian_n540 = [\"merian_n540_{:d}\".format(ii + 1) for ii in np.arange(49)]"
   ]
  },
  {
   "cell_type": "code",
   "execution_count": 17,
   "metadata": {},
   "outputs": [
    {
     "data": {
      "text/plain": [
       "0.0025199452259448245"
      ]
     },
     "execution_count": 17,
     "metadata": {},
     "output_type": "execute_result"
    }
   ],
   "source": [
    "np.nanstd([\n",
    "    catext.get_extinction_coefficient(f, star, A_V=1.0, R_V=3.1, filter_dir=os.path.join(merian_dir, 'n540')) \n",
    "    for f in merian_n540])"
   ]
  },
  {
   "cell_type": "code",
   "execution_count": null,
   "metadata": {},
   "outputs": [],
   "source": []
  }
 ],
 "metadata": {
  "kernelspec": {
   "display_name": "Python 3",
   "language": "python",
   "name": "python3"
  },
  "language_info": {
   "codemirror_mode": {
    "name": "ipython",
    "version": 3
   },
   "file_extension": ".py",
   "mimetype": "text/x-python",
   "name": "python",
   "nbconvert_exporter": "python",
   "pygments_lexer": "ipython3",
   "version": "3.9.7"
  }
 },
 "nbformat": 4,
 "nbformat_minor": 4
}
