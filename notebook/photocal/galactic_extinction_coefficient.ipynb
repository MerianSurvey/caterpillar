{
 "cells": [
  {
   "cell_type": "code",
   "execution_count": 49,
   "metadata": {},
   "outputs": [
    {
     "name": "stdout",
     "output_type": "stream",
     "text": [
      "The autoreload extension is already loaded. To reload it, use:\n",
      "  %reload_ext autoreload\n"
     ]
    }
   ],
   "source": [
    "%matplotlib inline\n",
    "%load_ext autoreload\n",
    "%autoreload 2\n",
    "\n",
    "import os\n",
    "import copy\n",
    "\n",
    "import scipy\n",
    "import scipy.integrate as integrate\n",
    "\n",
    "import numpy as np \n",
    "\n",
    "from astropy.io import fits\n",
    "from astropy.wcs import WCS\n",
    "from astropy.table import Table, Column, vstack\n",
    "\n",
    "import matplotlib.pyplot as plt"
   ]
  },
  {
   "cell_type": "code",
   "execution_count": 43,
   "metadata": {},
   "outputs": [],
   "source": [
    "import sedpy\n",
    "import extinction"
   ]
  },
  {
   "cell_type": "code",
   "execution_count": 6,
   "metadata": {},
   "outputs": [],
   "source": [
    "from sedpy import observate\n",
    "from sedpy import reference_spectra"
   ]
  },
  {
   "cell_type": "code",
   "execution_count": 4,
   "metadata": {},
   "outputs": [],
   "source": [
    "extinction_coeffs_hsc = {\n",
    "    \"HSC-G\": 3.240,\n",
    "    \"HSC-R\": 2.276,\n",
    "    \"HSC-I\": 1.633,\n",
    "    \"HSC-Z\": 1.263,\n",
    "    \"HSC-Y\": 1.075,\n",
    "    \"NB0387\": 4.007,\n",
    "    \"NB0816\": 1.458,\n",
    "    \"NB0921\": 1.187,\n",
    "}"
   ]
  },
  {
   "cell_type": "markdown",
   "metadata": {},
   "source": [
    "#### DECam Calibration"
   ]
  },
  {
   "cell_type": "code",
   "execution_count": 204,
   "metadata": {},
   "outputs": [],
   "source": [
    "decam_rb = [3.994, 3.212, 2.164, 1.591, 1.211, 1.063]\n",
    "decam_filters = ['decam_u', 'decam_g', 'decam_r', 'decam_i', 'decam_z', 'decam_y']"
   ]
  },
  {
   "cell_type": "code",
   "execution_count": null,
   "metadata": {},
   "outputs": [],
   "source": [
    "sdss_rb = [4.239, 3.303, ]"
   ]
  },
  {
   "cell_type": "markdown",
   "metadata": {},
   "source": [
    "#### Reference spectra of synthetic stars\n",
    "\n",
    "- Following Schlafly & Finkbeiner (2011):\n",
    "    - \"For the source spectrum, we use for S(λ) a synthetic spectrum from [Munari et al. (2005)](https://www.aanda.org/articles/aa/pdf/2005/42/aa2490-04.pdf), with Teff = 7000 K, logZ = −1, and log g = 4.5.\""
   ]
  },
  {
   "cell_type": "code",
   "execution_count": 208,
   "metadata": {},
   "outputs": [],
   "source": [
    "star_ref = Table.read('../../data/stellar/munari2005_t7000_g45_m10.txt', format='ascii')\n",
    "\n",
    "star_wave, star_flux = star_ref['col1'], star_ref['col2']"
   ]
  },
  {
   "cell_type": "markdown",
   "metadata": {},
   "source": [
    "- extinction = E(B-V) x Coefficient.\n",
    "\n",
    "- https://github.com/schlafly/dust/blob/master/python/dust.py\n",
    "- https://github.com/schlafly/specfilt"
   ]
  },
  {
   "cell_type": "code",
   "execution_count": 175,
   "metadata": {},
   "outputs": [],
   "source": [
    "solar = reference_spectra.solar\n",
    "\n",
    "solar_wave, solar_flux = solar[:, 0], solar[:, 1]\n",
    "\n",
    "flag = (solar_wave >= 2800.) & (solar_wave <= 11000)\n",
    "solar_wave, solar_flux = solar_wave[flag], solar_flux[flag]"
   ]
  },
  {
   "cell_type": "code",
   "execution_count": 223,
   "metadata": {},
   "outputs": [],
   "source": [
    "decam_r = observate.Filter(\"decam_g\")\n",
    "decam_r_wave, decam_r_curve = decam_r.wavelength, decam_r.transmission"
   ]
  },
  {
   "cell_type": "code",
   "execution_count": null,
   "metadata": {},
   "outputs": [],
   "source": []
  },
  {
   "cell_type": "code",
   "execution_count": 224,
   "metadata": {},
   "outputs": [
    {
     "data": {
      "text/plain": [
       "-37.92702654710964"
      ]
     },
     "execution_count": 224,
     "metadata": {},
     "output_type": "execute_result"
    }
   ],
   "source": [
    "decam_r.ab_mag(star_wave, star_flux)"
   ]
  },
  {
   "cell_type": "code",
   "execution_count": 251,
   "metadata": {},
   "outputs": [],
   "source": [
    "#ext = extinction.fitzpatrick99(star_wave.astype(np.float64), 1.0, 3.1)\n",
    "ext = af99(star_wave, rv=3.1)"
   ]
  },
  {
   "cell_type": "code",
   "execution_count": 279,
   "metadata": {},
   "outputs": [],
   "source": [
    "star_flux_ext = star_flux * 10.0 ** (-0.4 * ext)"
   ]
  },
  {
   "cell_type": "code",
   "execution_count": 280,
   "metadata": {},
   "outputs": [],
   "source": [
    "#star_flux_ext = extinction.apply(\n",
    "#    extinction.fitzpatrick99(star_wave.astype(np.float64), 0.78, 3.1), star_flux)"
   ]
  },
  {
   "cell_type": "code",
   "execution_count": 281,
   "metadata": {},
   "outputs": [
    {
     "data": {
      "text/plain": [
       "3.0780694979556813"
      ]
     },
     "execution_count": 281,
     "metadata": {},
     "output_type": "execute_result"
    }
   ],
   "source": [
    "decam_r.ab_mag(star_wave, star_flux_ext) - decam_r.ab_mag(star_wave, star_flux)"
   ]
  },
  {
   "cell_type": "code",
   "execution_count": 272,
   "metadata": {},
   "outputs": [
    {
     "data": {
      "text/plain": [
       "3.114828635996208"
      ]
     },
     "execution_count": 272,
     "metadata": {},
     "output_type": "execute_result"
    }
   ],
   "source": [
    "compute_rf(star_wave, star_flux, decam_r_wave, decam_r_curve, 0.78/3.1, \n",
    "           divide_by_av=True, reddeninglaw=af99, deriv=False)"
   ]
  },
  {
   "cell_type": "code",
   "execution_count": null,
   "metadata": {},
   "outputs": [],
   "source": []
  },
  {
   "cell_type": "code",
   "execution_count": 219,
   "metadata": {},
   "outputs": [
    {
     "data": {
      "text/plain": [
       "[<matplotlib.lines.Line2D at 0x12bab0250>]"
      ]
     },
     "execution_count": 219,
     "metadata": {},
     "output_type": "execute_result"
    },
    {
     "data": {
      "image/png": "[encoded data removed]",
      "text/plain": [
       "<Figure size 432x288 with 1 Axes>"
      ]
     },
     "metadata": {
      "needs_background": "light"
     },
     "output_type": "display_data"
    }
   ],
   "source": [
    "plt.plot(star_wave, np.log10(star_flux))\n",
    "plt.plot(star_wave, np.log10(star_flux_ext))"
   ]
  },
  {
   "cell_type": "code",
   "execution_count": null,
   "metadata": {},
   "outputs": [],
   "source": []
  },
  {
   "cell_type": "code",
   "execution_count": null,
   "metadata": {},
   "outputs": [],
   "source": []
  },
  {
   "cell_type": "code",
   "execution_count": 267,
   "metadata": {},
   "outputs": [],
   "source": [
    "def fm_unred(wave, flux, ebv, *args, **kwargs):\n",
    "    '''\n",
    "    NAME:\n",
    "     FM_UNRED\n",
    "    PURPOSE:\n",
    "     Deredden a flux vector using the Fitzpatrick (1999) parameterization\n",
    "    EXPLANATION:\n",
    "     The R-dependent Galactic extinction curve is that of Fitzpatrick & Massa\n",
    "     (Fitzpatrick, 1999, PASP, 111, 63; astro-ph/9809387 ).\n",
    "     Parameterization is valid from the IR to the far-UV (3.5 microns to 0.1\n",
    "     microns).  UV extinction curve is extrapolated down to 912 Angstroms.\n",
    "    CALLING SEQUENCE:\n",
    "     fm_unred( wave, flux, ebv [, 'LMC2', 'AVGLMC', 'ExtCurve', R_V = ,\n",
    "                                   gamma =, x0=, c1=, c2=, c3=, c4= ])\n",
    "    INPUT:\n",
    "      wave - wavelength vector (Angstroms)\n",
    "      flux - calibrated flux vector, same number of elements as \"wave\"\n",
    "      ebv  - color excess E(B-V), scalar.  If a negative \"ebv\" is supplied,\n",
    "              then fluxes will be reddened rather than dereddened.\n",
    "    OUTPUT:\n",
    "      Unreddened flux vector, same units and number of elements as \"flux\"\n",
    "    OPTIONAL INPUT KEYWORDS\n",
    "      R_V - scalar specifying the ratio of total to selective extinction\n",
    "               R(V) = A(V) / E(B - V).  If not specified, then R = 3.1\n",
    "               Extreme values of R(V) range from 2.3 to 5.3\n",
    "      'AVGLMC' - if set, then the default fit parameters c1,c2,c3,c4,gamma,x0\n",
    "             are set to the average values determined for reddening in the\n",
    "             general Large Magellanic Cloud (LMC) field by Misselt et al.\n",
    "            (1999, ApJ, 515, 128)\n",
    "      'LMC2' - if set, then the fit parameters are set to the values determined\n",
    "             for the LMC2 field (including 30 Dor) by Misselt et al.\n",
    "             Note that neither /AVGLMC or /LMC2 will alter the default value\n",
    "             of R_V which is poorly known for the LMC.\n",
    "      The following five input keyword parameters allow the user to customize\n",
    "      the adopted extinction curve.  For example, see Clayton et al. (2003,\n",
    "      ApJ, 588, 871) for examples of these parameters in different interstellar\n",
    "      environments.\n",
    "      x0 - Centroid of 2200 A bump in microns (default = 4.596)\n",
    "      gamma - Width of 2200 A bump in microns (default = 0.99)\n",
    "      c3 - Strength of the 2200 A bump (default = 3.23)\n",
    "      c4 - FUV curvature (default = 0.41)\n",
    "      c2 - Slope of the linear UV extinction component\n",
    "           (default = -0.824 + 4.717 / R)\n",
    "      c1 - Intercept of the linear UV extinction component\n",
    "           (default = 2.030 - 3.007 * c2)\n",
    "    OPTIONAL OUTPUT KEYWORD:\n",
    "      'ExtCurve' - If this keyword is set, fm_unred will return two arrays.\n",
    "                  First array is the unreddend flux vector.  Second array is\n",
    "                  the E(wave-V)/E(B-V) extinction curve, interpolated onto the\n",
    "                  input wavelength vector.\n",
    "    EXAMPLE:\n",
    "       Determine how a flat spectrum (in wavelength) between 1200 A and 3200 A\n",
    "       is altered by a reddening of E(B-V) = 0.1.  Assume an \"average\"\n",
    "       reddening for the diffuse interstellar medium (R(V) = 3.1)\n",
    "       >>> w = 1200 + arange(40)*50       #Create a wavelength vector\n",
    "       >>> f = w*0 + 1                    #Create a \"flat\" flux vector\n",
    "       >>> fnew = fm_unred(w, f, -0.1)    #Redden (negative E(B-V)) flux vector\n",
    "       >>> plot(w, fnew)\n",
    "    NOTES:\n",
    "       (1) The following comparisons between the FM curve and that of Cardelli,\n",
    "           Clayton, & Mathis (1989), (see ccm_unred.pro):\n",
    "           (a) - In the UV, the FM and CCM curves are similar for R < 4.0, but\n",
    "                 diverge for larger R\n",
    "           (b) - In the optical region, the FM more closely matches the\n",
    "                 monochromatic extinction, especially near the R band.\n",
    "       (2)  Many sightlines with peculiar ultraviolet interstellar extinction\n",
    "               can be represented with the FM curve, if the proper value of\n",
    "               R(V) is supplied.\n",
    "    REQUIRED MODULES:\n",
    "       scipy, np\n",
    "    REVISION HISTORY:\n",
    "       Written   W. Landsman        Raytheon  STX   October, 1998\n",
    "       Based on FMRCurve by E. Fitzpatrick (Villanova)\n",
    "       Added /LMC2 and /AVGLMC keywords,  W. Landsman   August 2000\n",
    "       Added ExtCurve keyword, J. Wm. Parker   August 2000\n",
    "       Assume since V5.4 use COMPLEMENT to WHERE  W. Landsman April 2006\n",
    "       Ported to Python, C. Theissen August 2012\n",
    "    '''\n",
    "\n",
    "    from scipy.interpolate import CubicSpline\n",
    "\n",
    "    lmc2_set, avglmc_set, extcurve_set = None, None, None\n",
    "    R_V, gamma, x0, c1, c2, c3, c4 = None, None, None, None, None, None, None\n",
    "\n",
    "    x = 10000. / np.array([wave])  # Convert to inverse microns\n",
    "    curve = x * 0.\n",
    "\n",
    "    for arg in args:\n",
    "        if arg.lower() == 'lmc2':\n",
    "            lmc2_set = 1\n",
    "        if arg.lower() == 'avglmc':\n",
    "            avglmc_set = 1\n",
    "        if arg.lower() == 'extcurve':\n",
    "            extcurve_set = 1\n",
    "\n",
    "    for key in kwargs:\n",
    "        if key.lower() == 'r_v':\n",
    "            R_V = kwargs[key]\n",
    "        if key.lower() == 'x0':\n",
    "            x0 = kwargs[key]\n",
    "        if key.lower() == 'gamma':\n",
    "            gamma = kwargs[key]\n",
    "        if key.lower() == 'c4':\n",
    "            c4 = kwargs[key]\n",
    "        if key.lower() == 'c3':\n",
    "            c3 = kwargs[key]\n",
    "        if key.lower() == 'c2':\n",
    "            c2 = kwargs[key]\n",
    "        if key.lower() == 'c1':\n",
    "            c1 = kwargs[key]\n",
    "\n",
    "    if R_V == None:\n",
    "        R_V = 3.1\n",
    "\n",
    "    if lmc2_set == 1:\n",
    "        if x0 == None: x0 = 4.626\n",
    "        if gamma == None: gamma =  1.05\n",
    "        if c4 == None: c4 = 0.42   \n",
    "        if c3 == None: c3 = 1.92\n",
    "        if c2 == None: c2 = 1.31\n",
    "        if c1 == None: c1 = -2.16\n",
    "    elif avglmc_set == 1:\n",
    "        if x0 == None: x0 = 4.596  \n",
    "        if gamma == None: gamma = 0.91\n",
    "        if c4 == None: c4 = 0.64  \n",
    "        if c3 == None: c3 =  2.73\n",
    "        if c2 == None: c2 = 1.11\n",
    "        if c1 == None: c1 = -1.28\n",
    "    else:\n",
    "        if x0 == None: x0 = 4.596  \n",
    "        if gamma == None: gamma = 0.99\n",
    "        if c4 == None: c4 = 0.41\n",
    "        if c3 == None: c3 =  3.23\n",
    "        if c2 == None: c2 = -0.824 + 4.717 / R_V\n",
    "        if c1 == None: c1 = 2.030 - 3.007 * c2\n",
    "    \n",
    "    # Compute UV portion of A(lambda)/E(B-V) curve using FM fitting function and \n",
    "    # R-dependent coefficients\n",
    " \n",
    "    xcutuv = 10000.0 / 2700.0\n",
    "    xspluv = 10000.0 / np.array([2700.0, 2600.0])\n",
    "   \n",
    "    iuv = x >= xcutuv\n",
    "    iuv_comp = ~iuv\n",
    "\n",
    "    if len(x[iuv]) > 0: xuv = np.concatenate( (xspluv, x[iuv]) )\n",
    "    else: xuv = xspluv.copy()\n",
    "\n",
    "    yuv = c1  + c2 * xuv\n",
    "    yuv = yuv + c3 * xuv**2 / ( ( xuv**2 - x0**2 )**2 + ( xuv * gamma )**2 )\n",
    "\n",
    "    filter1 = xuv.copy()\n",
    "    filter1[xuv <= 5.9] = 5.9\n",
    "    \n",
    "    yuv = yuv + c4 * ( 0.5392 * ( filter1 - 5.9 )**2 + 0.05644 * ( filter1 - 5.9 )**3 )\n",
    "    yuv = yuv + R_V\n",
    "    yspluv = yuv[0:2].copy()                  # save spline points\n",
    "    \n",
    "    if len(x[iuv]) > 0: curve[iuv] = yuv[2:len(yuv)]      # remove spline points\n",
    "\n",
    "    # Compute optical portion of A(lambda)/E(B-V) curve\n",
    "    # using cubic spline anchored in UV, optical, and IR\n",
    "\n",
    "    xsplopir = np.concatenate(([0], 10000.0 / np.array([26500.0, 12200.0, 6000.0, 5470.0, 4670.0, 4110.0])))\n",
    "    ysplir   = np.array([0.0, 0.26469, 0.82925]) * R_V / 3.1\n",
    "    ysplop   = [np.polyval(np.array([2.13572e-04, 1.00270, -4.22809e-01]), R_V ), \n",
    "                np.polyval(np.array([-7.35778e-05, 1.00216, -5.13540e-02]), R_V ),\n",
    "                np.polyval(np.array([-3.32598e-05, 1.00184, 7.00127e-01]), R_V ),\n",
    "                np.polyval(np.array([-4.45636e-05, 7.97809e-04, -5.46959e-03, 1.01707, 1.19456] ), R_V ) ]\n",
    "    \n",
    "    ysplopir = np.concatenate( (ysplir, ysplop) )\n",
    "    \n",
    "    if len(iuv_comp) > 0:\n",
    "        cubic = CubicSpline(np.concatenate( (xsplopir,xspluv) ),\n",
    "                            np.concatenate( (ysplopir,yspluv) ), bc_type='natural')\n",
    "        curve[iuv_comp] = cubic( x[iuv_comp] )\n",
    "\n",
    "    # Now apply extinction correction to input flux vector\n",
    "    curve = ebv * curve[0]\n",
    "    flux = flux * 10.**(0.4 * curve)\n",
    "    if extcurve_set is None:\n",
    "        return flux\n",
    "    else:\n",
    "        ExtCurve = curve/ebv - R_V\n",
    "        return flux, ExtCurve\n",
    "\n",
    "    \n",
    "def af99(lam, rv=3.1):\n",
    "    \"\"\"Return A(lam) from F99\n",
    "    Returns the extinction A(lam) at wavelength lam (angstroms) from the\n",
    "    Fitzpatrick (1999) prescription.  A(lam) is normalized to 1 at 5420 A\n",
    "    (~V).  Note this normalization is arbitrary!\n",
    "    Args:\n",
    "        lam: wavelengths at which A(lam) should be evaluated, angstroms\n",
    "        rv: R_V parameter of the reddening curve\n",
    "    Returns:\n",
    "        A(lam, rv)/A(5420 A, rv)\n",
    "    \"\"\"\n",
    "    lam = np.atleast_1d(lam)\n",
    "\n",
    "    flux = np.ones_like(lam)\n",
    "    rflux = fm_unred(lam, flux, -1./rv, R_V=rv)\n",
    "    ext = -2.5*np.log10(rflux/flux)\n",
    "    ext_1micron = -2.5 * np.log10(fm_unred(10000., 1, -1./rv, R_V=rv))\n",
    "    return ext / ext_1micron\n",
    "\n",
    "\n",
    "def compute_rf(ws, ss, wf, sf, av, divide_by_av=True, urmag=None,\n",
    "               reddeninglaw=af99, deriv=False, atm=1., **kw):\n",
    "    \"\"\"Return A_f/E(B-V) for a given spectrum and filter from F99\n",
    "    Returns the extinction at A_V in a given filter\n",
    "    (wf, sf) for a given spectrum (ws, ss).  An F99 reddening law with\n",
    "    given R_V is assumed.\n",
    "    Args:\n",
    "        ws: wavelength (angstroms) at which spectrum is tabulated\n",
    "        ss: flux (energy/unit wavelength/unit time/unit area)\n",
    "        wf: wavelength (angstroms) at which filter is tabulated\n",
    "        sf: filter throughput (probability a photon is registered)\n",
    "        av: the dust column of interest, units A_5420 (mag)\n",
    "        divide_by_av: flag indicating whether or not A_f should be\n",
    "                       normalized to A_V\n",
    "        **kw: extra parameters to pass to reddening law\n",
    "    Returns:\n",
    "        A_filter/A_V\n",
    "    \"\"\"\n",
    "    if urmag is None and not deriv:\n",
    "        urmag = intfilter(ws, ss, wf, sf, atm=atm)\n",
    "    extmag = reddeninglaw(ws, **kw)*av\n",
    "    med_extmag = np.median(extmag)\n",
    "    extmag -= med_extmag  # get rid of gray component; add back in below\n",
    "    # makes the algorithm somewhat more robust against underflow\n",
    "    ssr = ss*10.**(-0.4 * extmag)\n",
    "    rmag = intfilter(ws, ssr, wf, sf)+med_extmag\n",
    "    if deriv:\n",
    "        eps = 0.001\n",
    "        extmag += med_extmag\n",
    "        extmag *= (1 + eps/av)\n",
    "        med_extmag = np.median(extmag)\n",
    "        extmag -= med_extmag\n",
    "        ssr = ss*10.**(-extmag/2.5)\n",
    "        urmag = intfilter(ws, ssr, wf, sf, atm=atm)+med_extmag\n",
    "    res = rmag-urmag\n",
    "    if divide_by_av and not deriv:\n",
    "        res /= av\n",
    "    if deriv:\n",
    "        res /= (-eps)\n",
    "    return res\n",
    "\n",
    "def intfilter(ws, ss, wf, sf, wa=None, sa=None, atm=1.):\n",
    "    \"\"\"Return AB magnitude corresponding to filter and atmosphere (photon\n",
    "    counting).\n",
    "    Args:\n",
    "        ws, ss: wavelength (A) and spectrum (erg/cm^2/s/A) of the source\n",
    "        wf, sf: wavelength (A) and QE (0-1) of the filter\n",
    "        wa, sa: wavelength (A) and transparency (0-1) of the atmosphere\n",
    "                (optional)\n",
    "        atm: airmass to use\n",
    "        ws, wf, wa must be sorted by wavelengeth\n",
    "    Returns:\n",
    "        the AB magnitude of the source in the filter\n",
    "    \"\"\"\n",
    "\n",
    "    if wa is None:\n",
    "        wa = ws\n",
    "        sa = np.ones(len(ws))\n",
    "\n",
    "    if atm != 1:\n",
    "        sa = sa ** atm\n",
    "\n",
    "    wall = np.unique(np.concatenate([ws, wf, wa]))\n",
    "    ssall = np.interp(wall, ws, ss)\n",
    "    sfall = np.interp(wall, wf, sf, left=0., right=0.)\n",
    "    saall = np.interp(wall, ws, sa)\n",
    "    sfall *= saall\n",
    "\n",
    "    h = 6.62606957e-27  # erg * s\n",
    "    c = 2.99792458e10  # cm/s\n",
    "    flux_to_number = h*c/(wall*1e-8)  # 1e8 Angstrom / cm\n",
    "\n",
    "    def integrator(x, y):\n",
    "        return integrate.trapz(x, y)\n",
    "\n",
    "    flux = integrator(sfall*ssall/flux_to_number, wall)\n",
    "\n",
    "    szall = 3631e-23*c/wall/(wall*1e-8)\n",
    "    zflux = integrator(sfall*szall/flux_to_number, wall)\n",
    "\n",
    "    if (flux <= 0) or (zflux <= 0):\n",
    "        raise ValueError('flux and zero flux must be > 0')\n",
    "\n",
    "    return -2.5*np.log10(flux / zflux)"
   ]
  },
  {
   "cell_type": "code",
   "execution_count": 46,
   "metadata": {},
   "outputs": [],
   "source": []
  },
  {
   "cell_type": "code",
   "execution_count": null,
   "metadata": {},
   "outputs": [],
   "source": []
  }
 ],
 "metadata": {
  "kernelspec": {
   "display_name": "Python 3",
   "language": "python",
   "name": "python3"
  },
  "language_info": {
   "codemirror_mode": {
    "name": "ipython",
    "version": 3
   },
   "file_extension": ".py",
   "mimetype": "text/x-python",
   "name": "python",
   "nbconvert_exporter": "python",
   "pygments_lexer": "ipython3",
   "version": "3.8.8"
  }
 },
 "nbformat": 4,
 "nbformat_minor": 4
}
