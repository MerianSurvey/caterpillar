{
 "cells": [
  {
   "cell_type": "code",
   "execution_count": 1,
   "id": "344b65ed-e875-4509-9979-fe04de62bc6e",
   "metadata": {},
   "outputs": [],
   "source": [
    "%matplotlib inline\n",
    "%load_ext autoreload\n",
    "%autoreload 2\n",
    "\n",
    "import os\n",
    "\n",
    "from datetime import date\n",
    "\n",
    "import numpy as np\n",
    "\n",
    "import astropy.units as u\n",
    "from astropy.table import Table, QTable"
   ]
  },
  {
   "cell_type": "markdown",
   "id": "8499efce-a6aa-4202-be83-33aa37693ee9",
   "metadata": {},
   "source": [
    "### Prepare the input catalog"
   ]
  },
  {
   "cell_type": "code",
   "execution_count": 2,
   "id": "dbd2fe4c-d2dc-4895-bc61-1c72f48198bf",
   "metadata": {},
   "outputs": [],
   "source": [
    "cat = '/Users/song/Downloads/broadcut_GAMA09H_cosmos_match_basicinfo.fits'"
   ]
  },
  {
   "cell_type": "code",
   "execution_count": 3,
   "id": "72416d75-5d97-4788-afcd-556c8a9edc36",
   "metadata": {},
   "outputs": [
    {
     "name": "stdout",
     "output_type": "stream",
     "text": [
      "['name', 'prefix', 'ra', 'dec', 'radius', 'object_id', 'object_id_isnull']\n"
     ]
    }
   ],
   "source": [
    "tab = Table.read(cat)\n",
    "\n",
    "print(tab.colnames)"
   ]
  },
  {
   "cell_type": "code",
   "execution_count": 9,
   "id": "92682cee-a07e-48f3-a864-b87fe389115b",
   "metadata": {},
   "outputs": [
    {
     "data": {
      "text/plain": [
       "['name',\n",
       " 'prefix',\n",
       " 'ra',\n",
       " 'dec',\n",
       " 'radius',\n",
       " 'object_id',\n",
       " 'object_id_isnull',\n",
       " 'id',\n",
       " 'chunk']"
      ]
     },
     "execution_count": 9,
     "metadata": {},
     "output_type": "execute_result"
    }
   ],
   "source": [
    "tab.colnames"
   ]
  },
  {
   "cell_type": "code",
   "execution_count": 5,
   "id": "1808762a-6a86-445a-9610-7e0605e6d29e",
   "metadata": {},
   "outputs": [],
   "source": [
    "id_arr = np.asarray([int(name.split('_')[1]) for name in tab['name']])\n",
    "\n",
    "chunk_arr = np.asarray([p.split('/')[5] for p in tab['prefix']])\n",
    "\n",
    "tab['id'] = id_arr\n",
    "tab['chunk'] = chunk_arr"
   ]
  },
  {
   "cell_type": "code",
   "execution_count": null,
   "id": "c681c356-894d-4d23-ad1b-1bcad991d0e2",
   "metadata": {},
   "outputs": [],
   "source": []
  },
  {
   "cell_type": "code",
   "execution_count": 6,
   "id": "e7418fdb-991a-4caf-9cf7-2f88b083c422",
   "metadata": {},
   "outputs": [],
   "source": [
    "def _get_ra_dec_name(id_arr, ra_arr, dec_arr):\n",
    "    \"\"\"Get the object name based on ID and (RA, Dec).\"\"\"\n",
    "    return [\n",
    "        \"{:s}_{:s}_{:s}_{:s}\".format(\n",
    "            str(i), \"{:8.4f}\".format(ra).strip(), \"{:8.4f}\".format(dec).strip()\n",
    "            ) for (i, ra, dec) in zip(id_arr, ra_arr, dec_arr)]\n",
    "\n",
    "def _get_file_prefix(name_arr, band, prefix):\n",
    "    \"\"\"Get the prefix of the output files based on the ID.\"\"\"\n",
    "    if prefix is None:\n",
    "        return [\"{:s}_{:s}\".format(str(name), band) for name in name_arr]\n",
    "    else:\n",
    "        return [\"{:s}_{:s}_{:s}\".format(prefix, str(name), band) for name in name_arr]\n",
    "\n",
    "def _get_output_dir(output_dir, chunk_arr, name_arr):\n",
    "    \"\"\"Get the directory for the output cutout data.\"\"\"\n",
    "    # Check the output directory\n",
    "    if not os.path.isdir(output_dir):\n",
    "        raise ValueError(\"Output directory '{:s}' does not exist\".format(output_dir))\n",
    "    \n",
    "    return [os.path.join(output_dir, str(chunk), str(name)) for (chunk, name) in zip(chunk_arr, name_arr)]\n",
    "    \n",
    "def _get_int_chunk(data, n_chunk):\n",
    "    \"\"\"Assign integer chunk ID to the data.\"\"\"\n",
    "    if n_chunk > len(data):\n",
    "        raise ValueError(\"Too many chunks...\")\n",
    "    if n_chunk <= 0:\n",
    "        raise ValueError(\"Chunk number has to be larger than 0...\")\n",
    "    \n",
    "    chunk_arr = np.ones(len(data), dtype=int)\n",
    "    if n_chunk == 1:\n",
    "        return chunk_arr\n",
    "    \n",
    "    chunk_size = np.ceil(len(data) / n_chunk).astype(int)\n",
    "\n",
    "    start, end = 0, chunk_size\n",
    "    for i in np.arange(n_chunk):\n",
    "        chunk_arr[start: end] = i + 1\n",
    "        start, end = end, end + chunk_size \n",
    "        end = len(data) if end > len(data) else end\n",
    "    \n",
    "    return chunk_arr\n",
    "\n",
    "\n",
    "def _prepare_input_cat(input_cat, half_size, unit, ra_col, dec_col, band, id_col, chunk, \n",
    "                       prefix, output_dir, save=True):\n",
    "    \"\"\"\n",
    "    Prepare the input sample for the given dataset.\n",
    "    \n",
    "    The cutouts are organized into:\n",
    "        [output_dir]/[chunk_id]/[galaxy_id]/[file_name].fits\n",
    "    And the file name prefix is: \n",
    "        ([prefix]_[galaxy_id]_[band]\n",
    "    \"\"\"\n",
    "    # Load the input catalog\n",
    "    if isinstance(input_cat, str):\n",
    "        input_cat = Table.read(input_cat)\n",
    "\n",
    "    # Get an array for half size\n",
    "    if isinstance(half_size, str):\n",
    "        if half_size.strip() not in input_cat.colnames:\n",
    "            raise ValueError(\"Wrong half size column name. [{:s}]\".format(half_size))\n",
    "        half_size_arr = input_cat[half_size]\n",
    "    else:\n",
    "        # Using the same size for all objects\n",
    "        half_size_arr = np.full(len(input_cat), float(half_size))\n",
    "    \n",
    "    if np.any(half_size_arr < 0):\n",
    "        raise ValueError(\"Negative size value.\")\n",
    "    \n",
    "    # Add size unit if necessary\n",
    "    if unit != 'pixel' and half_size_arr.unit is None:\n",
    "        # Check the half size unit\n",
    "        if unit.strip() not in ['arcsec', 'arcmin', 'degree', 'pixel']:\n",
    "            raise ValueError(\"Wrong size unit. [arcsec, arcmin, degree, pixel]\")\n",
    "        half_size_arr = [s * u.Unit(unit) for s in half_size_arr]\n",
    "\n",
    "    # Get the RA and DEC arrays\n",
    "    if ra_col not in input_cat.colnames:\n",
    "        raise ValueError(\"Wrong R.A. column name. [{:s}]\".format(ra_col))\n",
    "    if dec_col not in input_cat.colnames:\n",
    "        raise ValueError(\"Wrong Dec column name. [{:s}]\".format(dec_col))\n",
    "    ra_arr, dec_arr = input_cat[ra_col], input_cat[dec_col]\n",
    "    \n",
    "    # Get the output directory and file name \n",
    "    \n",
    "    # Get the object id or name\n",
    "    if id_col is None:\n",
    "        name_arr = _get_ra_dec_name(np.arange(len(ra_arr)) + 1, ra_arr, dec_arr)\n",
    "    else:\n",
    "        if id_col not in input_cat.colnames:\n",
    "            raise ValueError(\"Wrong ID column name. [{:s}]\".format(id_col))\n",
    "        name_arr = input_cat[id_col]\n",
    "    \n",
    "    # Get the output file prefix \n",
    "    prefix_arr = _get_file_prefix(name_arr, band, prefix)\n",
    "    \n",
    "    # Get the directory of the output file\n",
    "    if chunk is not None:\n",
    "        if isinstance(chunk, str):\n",
    "            if chunk not in input_cat.colnames:\n",
    "                raise ValueError(\"Wrong Chunk column name. [{:s}]\".format(chunk))\n",
    "            chunk_arr = input_cat[chunk]\n",
    "        else:\n",
    "            chunk_arr = _get_int_chunk(input_cat, int(chunk))\n",
    "    else:\n",
    "        chunk_arr = None\n",
    "        \n",
    "    # Get the output file directory\n",
    "    dir_arr = _get_output_dir(output_dir, chunk_arr, name_arr)\n",
    "\n",
    "    sample = QTable(\n",
    "        [name_arr, prefix_arr, dir_arr, chunk_arr, list(ra_arr), list(dec_arr), half_size_arr],\n",
    "        names=('name', 'prefix', 'dir', 'chunk', 'ra', 'dec', 'half_size')\n",
    "    )\n",
    "\n",
    "    if save:\n",
    "        today = date.today()\n",
    "        prefix = 'postamps' if prefix is None else prefix\n",
    "        sample.write(\n",
    "            os.path.join(output_dir, \"{:s}-{:4d}-{:02d}-{:02d}.fits\".format(\n",
    "                prefix, today.year, today.month, today.day)), overwrite=True)\n",
    "    \n",
    "    return sample"
   ]
  },
  {
   "cell_type": "code",
   "execution_count": 7,
   "id": "24839b6c-7b0f-4354-9bac-5f81fa9762f6",
   "metadata": {},
   "outputs": [
    {
     "data": {
      "text/html": [
       "<div><i>QTable length=17198</i>\n",
       "<table id=\"table140582475752208\" class=\"table-striped table-bordered table-condensed\">\n",
       "<thead><tr><th>name</th><th>prefix</th><th>dir</th><th>chunk</th><th>ra</th><th>dec</th><th>half_size</th></tr></thead>\n",
       "<thead><tr><th></th><th></th><th></th><th></th><th></th><th></th><th>arcsec</th></tr></thead>\n",
       "<thead><tr><th>int64</th><th>str29</th><th>str22</th><th>int64</th><th>float64</th><th>float64</th><th>float64</th></tr></thead>\n",
       "<tr><td>43153640956908581</td><td>cosmos_43153640956908581_N708</td><td>./1/43153640956908581</td><td>1</td><td>149.482517432927</td><td>1.7997843568838428</td><td>3.4999708170211936</td></tr>\n",
       "<tr><td>43153640956912087</td><td>cosmos_43153640956912087_N708</td><td>./1/43153640956912087</td><td>1</td><td>149.4615121622147</td><td>1.853874214838872</td><td>10.247289505034978</td></tr>\n",
       "<tr><td>43153640956907004</td><td>cosmos_43153640956907004_N708</td><td>./1/43153640956907004</td><td>1</td><td>149.49808676780927</td><td>1.7751951616501846</td><td>5.53583558281855</td></tr>\n",
       "<tr><td>43153640956913361</td><td>cosmos_43153640956913361_N708</td><td>./1/43153640956913361</td><td>1</td><td>149.49421596863644</td><td>1.8758752069046896</td><td>5.753189594477137</td></tr>\n",
       "<tr><td>43153636661942697</td><td>cosmos_43153636661942697_N708</td><td>./1/43153636661942697</td><td>1</td><td>149.48993681094157</td><td>1.6444770735561576</td><td>6.943775817233734</td></tr>\n",
       "<tr><td>43153640956910166</td><td>cosmos_43153640956910166_N708</td><td>./1/43153640956910166</td><td>1</td><td>149.47687924272537</td><td>1.8268488270143586</td><td>4.36454007428045</td></tr>\n",
       "<tr><td>43153640956911047</td><td>cosmos_43153640956911047_N708</td><td>./1/43153640956911047</td><td>1</td><td>149.50178669483344</td><td>1.8409192119335216</td><td>3.578424428432156</td></tr>\n",
       "<tr><td>43153640956907529</td><td>cosmos_43153640956907529_N708</td><td>./1/43153640956907529</td><td>1</td><td>149.4800255085128</td><td>1.7829055839738746</td><td>5.34441519719417</td></tr>\n",
       "<tr><td>43153640956907530</td><td>cosmos_43153640956907530_N708</td><td>./1/43153640956907530</td><td>1</td><td>149.4797928881101</td><td>1.783289613243299</td><td>5.23039506442869</td></tr>\n",
       "<tr><td>43153640956907838</td><td>cosmos_43153640956907838_N708</td><td>./1/43153640956907838</td><td>1</td><td>149.48906587340431</td><td>1.7889717631119306</td><td>3.115662810703366</td></tr>\n",
       "<tr><td>43153640956907926</td><td>cosmos_43153640956907926_N708</td><td>./1/43153640956907926</td><td>1</td><td>149.43260968221753</td><td>1.7904332507805447</td><td>6.454137627909712</td></tr>\n",
       "<tr><td>...</td><td>...</td><td>...</td><td>...</td><td>...</td><td>...</td><td>...</td></tr>\n",
       "<tr><td>43159159989886688</td><td>cosmos_43159159989886688_N708</td><td>./20/43159159989886688</td><td>20</td><td>149.53356233542252</td><td>2.790565211410975</td><td>8.872084422501851</td></tr>\n",
       "<tr><td>43159155694916389</td><td>cosmos_43159155694916389_N708</td><td>./20/43159155694916389</td><td>20</td><td>149.53288858095627</td><td>2.5383449058541654</td><td>3.141370675358131</td></tr>\n",
       "<tr><td>43159155694916832</td><td>cosmos_43159155694916832_N708</td><td>./20/43159155694916832</td><td>20</td><td>149.580659433944</td><td>2.5457436797211908</td><td>3.0</td></tr>\n",
       "<tr><td>43159155694917883</td><td>cosmos_43159155694917883_N708</td><td>./20/43159155694917883</td><td>20</td><td>149.50584718276272</td><td>2.56212904144863</td><td>6.429238244146813</td></tr>\n",
       "<tr><td>43159155694917917</td><td>cosmos_43159155694917917_N708</td><td>./20/43159155694917917</td><td>20</td><td>149.55833895845873</td><td>2.5630699237671277</td><td>6.666678596572659</td></tr>\n",
       "<tr><td>43159155694918020</td><td>cosmos_43159155694918020_N708</td><td>./20/43159155694918020</td><td>20</td><td>149.58751748218455</td><td>2.5647844222150082</td><td>9.479905410920512</td></tr>\n",
       "<tr><td>43159159989888356</td><td>cosmos_43159159989888356_N708</td><td>./20/43159159989888356</td><td>20</td><td>149.57367257378377</td><td>2.8150639195501768</td><td>15.584699932947057</td></tr>\n",
       "<tr><td>43159159989888463</td><td>cosmos_43159159989888463_N708</td><td>./20/43159159989888463</td><td>20</td><td>149.54569000749447</td><td>2.817971077191894</td><td>8.379812301000541</td></tr>\n",
       "<tr><td>43159151399948215</td><td>cosmos_43159151399948215_N708</td><td>./20/43159151399948215</td><td>20</td><td>149.54703285483265</td><td>2.333639954019488</td><td>5.69809992014882</td></tr>\n",
       "<tr><td>43159151399948457</td><td>cosmos_43159151399948457_N708</td><td>./20/43159151399948457</td><td>20</td><td>149.53816355314004</td><td>2.338499407049672</td><td>3.0</td></tr>\n",
       "<tr><td>43159159989888434</td><td>cosmos_43159159989888434_N708</td><td>./20/43159159989888434</td><td>20</td><td>149.5820005657267</td><td>2.8170563429511133</td><td>6.390048450520544</td></tr>\n",
       "</table></div>"
      ],
      "text/plain": [
       "<QTable length=17198>\n",
       "       name                   prefix                     dir           chunk         ra                dec             half_size     \n",
       "                                                                                                                         arcsec      \n",
       "      int64                   str29                     str22          int64      float64            float64            float64      \n",
       "----------------- ----------------------------- ---------------------- ----- ------------------ ------------------ ------------------\n",
       "43153640956908581 cosmos_43153640956908581_N708  ./1/43153640956908581     1   149.482517432927 1.7997843568838428 3.4999708170211936\n",
       "43153640956912087 cosmos_43153640956912087_N708  ./1/43153640956912087     1  149.4615121622147  1.853874214838872 10.247289505034978\n",
       "43153640956907004 cosmos_43153640956907004_N708  ./1/43153640956907004     1 149.49808676780927 1.7751951616501846   5.53583558281855\n",
       "43153640956913361 cosmos_43153640956913361_N708  ./1/43153640956913361     1 149.49421596863644 1.8758752069046896  5.753189594477137\n",
       "43153636661942697 cosmos_43153636661942697_N708  ./1/43153636661942697     1 149.48993681094157 1.6444770735561576  6.943775817233734\n",
       "43153640956910166 cosmos_43153640956910166_N708  ./1/43153640956910166     1 149.47687924272537 1.8268488270143586   4.36454007428045\n",
       "43153640956911047 cosmos_43153640956911047_N708  ./1/43153640956911047     1 149.50178669483344 1.8409192119335216  3.578424428432156\n",
       "43153640956907529 cosmos_43153640956907529_N708  ./1/43153640956907529     1  149.4800255085128 1.7829055839738746   5.34441519719417\n",
       "43153640956907530 cosmos_43153640956907530_N708  ./1/43153640956907530     1  149.4797928881101  1.783289613243299   5.23039506442869\n",
       "43153640956907838 cosmos_43153640956907838_N708  ./1/43153640956907838     1 149.48906587340431 1.7889717631119306  3.115662810703366\n",
       "43153640956907926 cosmos_43153640956907926_N708  ./1/43153640956907926     1 149.43260968221753 1.7904332507805447  6.454137627909712\n",
       "              ...                           ...                    ...   ...                ...                ...                ...\n",
       "43159159989886688 cosmos_43159159989886688_N708 ./20/43159159989886688    20 149.53356233542252  2.790565211410975  8.872084422501851\n",
       "43159155694916389 cosmos_43159155694916389_N708 ./20/43159155694916389    20 149.53288858095627 2.5383449058541654  3.141370675358131\n",
       "43159155694916832 cosmos_43159155694916832_N708 ./20/43159155694916832    20   149.580659433944 2.5457436797211908                3.0\n",
       "43159155694917883 cosmos_43159155694917883_N708 ./20/43159155694917883    20 149.50584718276272   2.56212904144863  6.429238244146813\n",
       "43159155694917917 cosmos_43159155694917917_N708 ./20/43159155694917917    20 149.55833895845873 2.5630699237671277  6.666678596572659\n",
       "43159155694918020 cosmos_43159155694918020_N708 ./20/43159155694918020    20 149.58751748218455 2.5647844222150082  9.479905410920512\n",
       "43159159989888356 cosmos_43159159989888356_N708 ./20/43159159989888356    20 149.57367257378377 2.8150639195501768 15.584699932947057\n",
       "43159159989888463 cosmos_43159159989888463_N708 ./20/43159159989888463    20 149.54569000749447  2.817971077191894  8.379812301000541\n",
       "43159151399948215 cosmos_43159151399948215_N708 ./20/43159151399948215    20 149.54703285483265  2.333639954019488   5.69809992014882\n",
       "43159151399948457 cosmos_43159151399948457_N708 ./20/43159151399948457    20 149.53816355314004  2.338499407049672                3.0\n",
       "43159159989888434 cosmos_43159159989888434_N708 ./20/43159159989888434    20  149.5820005657267 2.8170563429511133  6.390048450520544"
      ]
     },
     "execution_count": 7,
     "metadata": {},
     "output_type": "execute_result"
    }
   ],
   "source": [
    "_prepare_input_cat(tab, 'radius', 'arcsec', 'ra', 'dec', 'N708', 'id', 20, 'cosmos', './', save=True)"
   ]
  },
  {
   "cell_type": "code",
   "execution_count": null,
   "id": "bb8880f0-71fd-41bb-aba4-2cc3593c9c9e",
   "metadata": {},
   "outputs": [],
   "source": []
  }
 ],
 "metadata": {
  "kernelspec": {
   "display_name": "Python 3 (ipykernel)",
   "language": "python",
   "name": "python3"
  },
  "language_info": {
   "codemirror_mode": {
    "name": "ipython",
    "version": 3
   },
   "file_extension": ".py",
   "mimetype": "text/x-python",
   "name": "python",
   "nbconvert_exporter": "python",
   "pygments_lexer": "ipython3",
   "version": "3.8.8"
  }
 },
 "nbformat": 4,
 "nbformat_minor": 5
}
