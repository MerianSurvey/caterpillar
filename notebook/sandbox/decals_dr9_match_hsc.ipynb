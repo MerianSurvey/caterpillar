{
 "cells": [
  {
   "cell_type": "code",
   "execution_count": 41,
   "metadata": {},
   "outputs": [
    {
     "name": "stdout",
     "output_type": "stream",
     "text": [
      "The autoreload extension is already loaded. To reload it, use:\n",
      "  %reload_ext autoreload\n"
     ]
    }
   ],
   "source": [
    "%matplotlib inline\n",
    "%load_ext autoreload\n",
    "%autoreload 2\n",
    "\n",
    "import os \n",
    "import copy\n",
    "import glob\n",
    "import pickle\n",
    "\n",
    "import numpy as np \n",
    "\n",
    "import astropy.units as u\n",
    "from astropy.table import Table, Column, join, vstack\n",
    "\n",
    "import healpy as hp\n",
    "\n",
    "import matplotlib.pyplot as plt\n",
    "from matplotlib.colors import LogNorm"
   ]
  },
  {
   "cell_type": "code",
   "execution_count": 2,
   "metadata": {},
   "outputs": [],
   "source": [
    "def filter_healpix_mask(mask, catalog, ra='ra', dec='dec', verbose=True):\n",
    "    \"\"\"Filter a catalog through a Healpix mask.\n",
    "\n",
    "    Parameters\n",
    "    ----------\n",
    "    mask : healpy mask data\n",
    "        healpy mask data\n",
    "    catalog : numpy array or astropy.table\n",
    "        Catalog that includes the coordinate information\n",
    "    ra : string\n",
    "        Name of the column for R.A.\n",
    "    dec : string\n",
    "        Name of the column for Dec.\n",
    "    verbose : boolen, optional\n",
    "        Default: True\n",
    "\n",
    "    Return\n",
    "    ------\n",
    "        Selected objects that are covered by the mask.\n",
    "    \"\"\"\n",
    "    import healpy\n",
    "\n",
    "    nside, hp_indices = healpy.get_nside(mask), np.where(mask)[0]\n",
    "\n",
    "    phi, theta = np.radians(catalog[ra]), np.radians(90. - catalog[dec])\n",
    "\n",
    "    hp_masked = healpy.ang2pix(nside, theta, phi, nest=True)\n",
    "\n",
    "    select = np.in1d(hp_masked, hp_indices)\n",
    "\n",
    "    if verbose:\n",
    "        print(\"# %d/%d objects are selected by the mask\" % (select.sum(), len(catalog)))\n",
    "\n",
    "    return catalog[select]"
   ]
  },
  {
   "cell_type": "code",
   "execution_count": 3,
   "metadata": {},
   "outputs": [
    {
     "name": "stdout",
     "output_type": "stream",
     "text": [
      "['RELEASE', 'BRICKID', 'BRICKNAME', 'OBJID', 'TYPE', 'RA', 'DEC', 'RA_IVAR', 'DEC_IVAR', 'DCHISQ', 'EBV', 'FLUX_G', 'FLUX_R', 'FLUX_Z', 'FLUX_W1', 'FLUX_W2', 'FLUX_W3', 'FLUX_W4', 'FLUX_IVAR_G', 'FLUX_IVAR_R', 'FLUX_IVAR_Z', 'FLUX_IVAR_W1', 'FLUX_IVAR_W2', 'FLUX_IVAR_W3', 'FLUX_IVAR_W4', 'MW_TRANSMISSION_G', 'MW_TRANSMISSION_R', 'MW_TRANSMISSION_Z', 'MW_TRANSMISSION_W1', 'MW_TRANSMISSION_W2', 'MW_TRANSMISSION_W3', 'MW_TRANSMISSION_W4', 'NOBS_G', 'NOBS_R', 'NOBS_Z', 'NOBS_W1', 'NOBS_W2', 'NOBS_W3', 'NOBS_W4', 'RCHISQ_G', 'RCHISQ_R', 'RCHISQ_Z', 'RCHISQ_W1', 'RCHISQ_W2', 'RCHISQ_W3', 'RCHISQ_W4', 'FRACFLUX_G', 'FRACFLUX_R', 'FRACFLUX_Z', 'FRACFLUX_W1', 'FRACFLUX_W2', 'FRACFLUX_W3', 'FRACFLUX_W4', 'FRACMASKED_G', 'FRACMASKED_R', 'FRACMASKED_Z', 'FRACIN_G', 'FRACIN_R', 'FRACIN_Z', 'ANYMASK_G', 'ANYMASK_R', 'ANYMASK_Z', 'ALLMASK_G', 'ALLMASK_R', 'ALLMASK_Z', 'WISEMASK_W1', 'WISEMASK_W2', 'PSFSIZE_G', 'PSFSIZE_R', 'PSFSIZE_Z', 'PSFDEPTH_G', 'PSFDEPTH_R', 'PSFDEPTH_Z', 'GALDEPTH_G', 'GALDEPTH_R', 'GALDEPTH_Z', 'PSFDEPTH_W1', 'PSFDEPTH_W2', 'WISE_COADD_ID', 'SHAPE_R', 'SHAPE_R_IVAR', 'SHAPE_E1', 'SHAPE_E1_IVAR', 'SHAPE_E2', 'SHAPE_E2_IVAR', 'FIBERFLUX_G', 'FIBERFLUX_R', 'FIBERFLUX_Z', 'FIBERTOTFLUX_G', 'FIBERTOTFLUX_R', 'FIBERTOTFLUX_Z', 'REF_CAT', 'REF_ID', 'REF_EPOCH', 'GAIA_PHOT_G_MEAN_MAG', 'GAIA_PHOT_G_MEAN_FLUX_OVER_ERROR', 'GAIA_PHOT_BP_MEAN_MAG', 'GAIA_PHOT_BP_MEAN_FLUX_OVER_ERROR', 'GAIA_PHOT_RP_MEAN_MAG', 'GAIA_PHOT_RP_MEAN_FLUX_OVER_ERROR', 'GAIA_ASTROMETRIC_EXCESS_NOISE', 'GAIA_DUPLICATED_SOURCE', 'GAIA_PHOT_BP_RP_EXCESS_FACTOR', 'GAIA_ASTROMETRIC_SIGMA5D_MAX', 'GAIA_ASTROMETRIC_PARAMS_SOLVED', 'PARALLAX', 'PARALLAX_IVAR', 'PMRA', 'PMRA_IVAR', 'PMDEC', 'PMDEC_IVAR', 'MASKBITS', 'FITBITS', 'SERSIC', 'SERSIC_IVAR']\n"
     ]
    }
   ],
   "source": [
    "sweep = '/Users/song/work/merian/sweep-000m025-010m020.fits'\n",
    "\n",
    "cat = Table.read(sweep)\n",
    "\n",
    "print(cat.colnames)"
   ]
  },
  {
   "cell_type": "code",
   "execution_count": 7,
   "metadata": {},
   "outputs": [
    {
     "name": "stderr",
     "output_type": "stream",
     "text": [
      "<ipython-input-7-f3255d9e274c>:3: DeprecationWarning: `np.bool` is a deprecated alias for the builtin `bool`. To silence this warning, use `bool` by itself. Doing this will not modify any behavior and is safe. If you specifically wanted the numpy scalar type, use `np.bool_` here.\n",
      "Deprecated in NumPy 1.20; for more details and guidance: https://numpy.org/devdocs/release/1.20.0-notes.html#deprecations\n",
      "  s20a_fdfc = hp.read_map(s20a_mask, nest=True, dtype=np.bool)\n",
      "/usr/local/lib/python3.8/site-packages/healpy/fitsfunc.py:391: UserWarning: NSIDE = 1024\n",
      "  warnings.warn(\"NSIDE = {0:d}\".format(nside))\n",
      "/usr/local/lib/python3.8/site-packages/healpy/fitsfunc.py:400: UserWarning: ORDERING = NESTED in fits file\n",
      "  warnings.warn(\"ORDERING = {0:s} in fits file\".format(ordering))\n",
      "/usr/local/lib/python3.8/site-packages/healpy/fitsfunc.py:428: UserWarning: INDXSCHM = IMPLICIT\n",
      "  warnings.warn(\"INDXSCHM = {0:s}\".format(schm))\n"
     ]
    }
   ],
   "source": [
    "s20a_mask = '/Users/song/work/merian/s20a_fdfc_hp_contarea_izy-gt-5.fits'\n",
    "\n",
    "s20a_fdfc = hp.read_map(s20a_mask, nest=True, dtype=np.bool)"
   ]
  },
  {
   "cell_type": "code",
   "execution_count": 9,
   "metadata": {},
   "outputs": [
    {
     "name": "stdout",
     "output_type": "stream",
     "text": [
      "# 0/1761713 objects are selected by the mask\n"
     ]
    }
   ],
   "source": [
    "cat_fdfc = filter_healpix_mask(s20a_fdfc, cat, ra='RA', dec='DEC', verbose=True)"
   ]
  },
  {
   "cell_type": "markdown",
   "metadata": {},
   "source": [
    "`/tigress/MERIAN/ancillary/decals/sweep/9.0`"
   ]
  },
  {
   "cell_type": "code",
   "execution_count": 11,
   "metadata": {},
   "outputs": [
    {
     "data": {
      "text/plain": [
       "0"
      ]
     },
     "execution_count": 11,
     "metadata": {},
     "output_type": "execute_result"
    }
   ],
   "source": [
    "len(cat_fdfc)"
   ]
  },
  {
   "cell_type": "code",
   "execution_count": 12,
   "metadata": {},
   "outputs": [],
   "source": [
    "cat_dir = '/Users/song/astro6/hsc/s20a/decals'"
   ]
  },
  {
   "cell_type": "code",
   "execution_count": 29,
   "metadata": {},
   "outputs": [],
   "source": [
    "dr9_list = glob.glob(cat_dir + '/*.fits')"
   ]
  },
  {
   "cell_type": "code",
   "execution_count": 13,
   "metadata": {},
   "outputs": [],
   "source": [
    "cat_test = Table.read(os.path.join(cat_dir, 'sweep-000m005-010p000_s20a.fits'))"
   ]
  },
  {
   "cell_type": "code",
   "execution_count": 35,
   "metadata": {},
   "outputs": [],
   "source": [
    "cols = ['OBJID', 'TYPE', 'RA', 'DEC', \n",
    "        'FLUX_G', 'FLUX_R', 'FLUX_Z', \n",
    "        'FLUX_IVAR_G', 'FLUX_IVAR_R', 'FLUX_IVAR_Z', \n",
    "        'MW_TRANSMISSION_G', 'MW_TRANSMISSION_R', 'MW_TRANSMISSION_Z', \n",
    "        'NOBS_G', 'NOBS_R', 'NOBS_Z', \n",
    "        'RCHISQ_G', 'RCHISQ_R', 'RCHISQ_Z', \n",
    "        'FRACFLUX_G', 'FRACFLUX_R', 'FRACFLUX_Z', \n",
    "        'FRACMASKED_G', 'FRACMASKED_R', 'FRACMASKED_Z', \n",
    "        'FRACIN_G', 'FRACIN_R', 'FRACIN_Z', \n",
    "        'ANYMASK_G', 'ANYMASK_R', 'ANYMASK_Z', \n",
    "        'ALLMASK_G', 'ALLMASK_R', 'ALLMASK_Z', \n",
    "        'PSFSIZE_G', 'PSFSIZE_R', 'PSFSIZE_Z', \n",
    "        'GALDEPTH_G', 'GALDEPTH_R', 'GALDEPTH_Z', \n",
    "        'SHAPE_R', 'SHAPE_R_IVAR', 'SHAPE_E1', 'SHAPE_E1_IVAR', 'SHAPE_E2', 'SHAPE_E2_IVAR', \n",
    "        'FIBERFLUX_G', 'FIBERFLUX_R', 'FIBERFLUX_Z', \n",
    "        'FIBERTOTFLUX_G', 'FIBERTOTFLUX_R', 'FIBERTOTFLUX_Z', \n",
    "        'SERSIC', 'SERSIC_IVAR']"
   ]
  },
  {
   "cell_type": "code",
   "execution_count": 38,
   "metadata": {},
   "outputs": [],
   "source": [
    "def reduce_cat(cat):\n",
    "    gal_mask = cat['TYPE'] != 'PSF'\n",
    "    \n",
    "    flux_mask = (\n",
    "        (cat['FLUX_G'] >= 0) & (cat['FLUX_R'] >= 0) & (cat['FLUX_Z'] >= 0) &\n",
    "        (np.isfinite(cat['FLUX_G'])) & (np.isfinite(cat['FLUX_R'])) & \n",
    "        (np.isfinite(cat['FLUX_Z']))\n",
    "    )\n",
    "\n",
    "    r_mag = 22.5 - 2.5 * np.log10(cat['FLUX_R'])\n",
    "    r_mask = r_mag <= 24.0\n",
    "\n",
    "    print((gal_mask & flux_mask & r_mask).sum(), len(cat))\n",
    "    \n",
    "    return cat[(gal_mask & flux_mask & r_mask)][cols]\n",
    "    "
   ]
  },
  {
   "cell_type": "code",
   "execution_count": 40,
   "metadata": {},
   "outputs": [
    {
     "name": "stderr",
     "output_type": "stream",
     "text": [
      "<ipython-input-38-e2e6b8644b2d>:10: RuntimeWarning: divide by zero encountered in log10\n",
      "  r_mag = 22.5 - 2.5 * np.log10(cat['FLUX_R'])\n",
      "<ipython-input-38-e2e6b8644b2d>:10: RuntimeWarning: invalid value encountered in log10\n",
      "  r_mag = 22.5 - 2.5 * np.log10(cat['FLUX_R'])\n"
     ]
    },
    {
     "name": "stdout",
     "output_type": "stream",
     "text": [
      "75938 208500\n",
      "286463 810045\n",
      "144816 399736\n",
      "28735 80477\n",
      "62315 171264\n",
      "2293900 6132037\n",
      "529396 1499798\n",
      "888949 2524949\n",
      "77556 178761\n",
      "252388 554739\n",
      "602641 1273911\n",
      "1890701 3923273\n",
      "601179 1193298\n",
      "1480081 2922713\n",
      "472699 943466\n",
      "998999 2013480\n",
      "457127 929089\n",
      "504508 1021119\n",
      "601462 1183705\n",
      "1273871 2476770\n",
      "600106 1208492\n",
      "1126778 2266762\n",
      "567162 1200968\n",
      "456118 959163\n",
      "592141 1263287\n",
      "416018 893980\n",
      "611134 1311837\n",
      "479706 1015639\n",
      "319770 737654\n",
      "237226 527492\n",
      "249029 744627\n",
      "1874528 4852079\n",
      "132591 295043\n",
      "273509 813596\n",
      "1249872 3381428\n",
      "39232 87210\n",
      "273806 817890\n",
      "971250 2727344\n"
     ]
    }
   ],
   "source": [
    "dr9_reduced = [reduce_cat(Table.read(c)) for c in dr9_list]"
   ]
  },
  {
   "cell_type": "code",
   "execution_count": 42,
   "metadata": {},
   "outputs": [],
   "source": [
    "dr9_hsc = vstack(dr9_reduced)"
   ]
  },
  {
   "cell_type": "code",
   "execution_count": 43,
   "metadata": {},
   "outputs": [
    {
     "data": {
      "text/plain": [
       "23993700"
      ]
     },
     "execution_count": 43,
     "metadata": {},
     "output_type": "execute_result"
    }
   ],
   "source": [
    "len(dr9_hsc)"
   ]
  },
  {
   "cell_type": "code",
   "execution_count": 44,
   "metadata": {},
   "outputs": [
    {
     "name": "stderr",
     "output_type": "stream",
     "text": [
      "WARNING: UnitsWarning: 'nanomaggy' did not parse as fits unit: At col 0, Unit 'nanomaggy' not supported by the FITS standard.  If this is meant to be a custom unit, define it with 'u.def_unit'. To have it recognized inside a file reader or other code, enable it with 'u.add_enabled_units'. For details, see https://docs.astropy.org/en/latest/units/combining_and_defining.html [astropy.units.core]\n",
      "WARNING: UnitsWarning: '1/nanomaggy^2' did not parse as fits unit: Numeric factor not supported by FITS If this is meant to be a custom unit, define it with 'u.def_unit'. To have it recognized inside a file reader or other code, enable it with 'u.add_enabled_units'. For details, see https://docs.astropy.org/en/latest/units/combining_and_defining.html [astropy.units.core]\n",
      "WARNING: UnitsWarning: '1/arcsec^2' did not parse as fits unit: Numeric factor not supported by FITS If this is meant to be a custom unit, define it with 'u.def_unit'. To have it recognized inside a file reader or other code, enable it with 'u.add_enabled_units'. For details, see https://docs.astropy.org/en/latest/units/combining_and_defining.html [astropy.units.core]\n"
     ]
    }
   ],
   "source": [
    "dr9_hsc.write(os.path.join(cat_dir, 'decals_dr9_hsc_s20a_gal_r24.fits'), overwrite=True)"
   ]
  },
  {
   "cell_type": "code",
   "execution_count": null,
   "metadata": {},
   "outputs": [],
   "source": []
  }
 ],
 "metadata": {
  "kernelspec": {
   "display_name": "Python 3",
   "language": "python",
   "name": "python3"
  },
  "language_info": {
   "codemirror_mode": {
    "name": "ipython",
    "version": 3
   },
   "file_extension": ".py",
   "mimetype": "text/x-python",
   "name": "python",
   "nbconvert_exporter": "python",
   "pygments_lexer": "ipython3",
   "version": "3.8.8"
  }
 },
 "nbformat": 4,
 "nbformat_minor": 4
}
